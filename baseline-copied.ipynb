{
 "cells": [
  {
   "cell_type": "markdown",
   "id": "7cef4b33",
   "metadata": {
    "papermill": {
     "duration": 0.007967,
     "end_time": "2025-09-04T08:09:57.165239",
     "exception": false,
     "start_time": "2025-09-04T08:09:57.157272",
     "status": "completed"
    },
    "tags": []
   },
   "source": [
    "This notebook is based on my previous notebook [Baseline_For_Beginners](https://www.kaggle.com/code/adamlogman/baseline-for-beginners),and [Dmitry Uarov](https://www.kaggle.com/dmitryuarov) 's [NeurIPS | Baseline + External data](https://www.kaggle.com/code/dmitryuarov/neurips-baseline-external-data) notebook with modifications to the model"
   ]
  },
  {
   "cell_type": "markdown",
   "id": "29c3860d",
   "metadata": {
    "papermill": {
     "duration": 0.006528,
     "end_time": "2025-09-04T08:09:57.178904",
     "exception": false,
     "start_time": "2025-09-04T08:09:57.172376",
     "status": "completed"
    },
    "tags": []
   },
   "source": [
    "# Import Dependencies "
   ]
  },
  {
   "cell_type": "code",
   "execution_count": 1,
   "id": "5ce48c93",
   "metadata": {
    "execution": {
     "iopub.execute_input": "2025-09-04T08:09:57.193787Z",
     "iopub.status.busy": "2025-09-04T08:09:57.193496Z",
     "iopub.status.idle": "2025-09-04T08:10:10.048031Z",
     "shell.execute_reply": "2025-09-04T08:10:10.046875Z"
    },
    "papermill": {
     "duration": 12.863994,
     "end_time": "2025-09-04T08:10:10.049734",
     "exception": false,
     "start_time": "2025-09-04T08:09:57.185740",
     "status": "completed"
    },
    "tags": []
   },
   "outputs": [
    {
     "name": "stdout",
     "output_type": "stream",
     "text": [
      "Processing /kaggle/input/rdkit-2025-3-3-cp311/rdkit-2025.3.3-cp311-cp311-manylinux_2_28_x86_64.whl\r\n",
      "Requirement already satisfied: numpy in /usr/local/lib/python3.11/dist-packages (from rdkit==2025.3.3) (1.26.4)\r\n",
      "Requirement already satisfied: Pillow in /usr/local/lib/python3.11/dist-packages (from rdkit==2025.3.3) (11.1.0)\r\n",
      "Requirement already satisfied: mkl_fft in /usr/local/lib/python3.11/dist-packages (from numpy->rdkit==2025.3.3) (1.3.8)\r\n",
      "Requirement already satisfied: mkl_random in /usr/local/lib/python3.11/dist-packages (from numpy->rdkit==2025.3.3) (1.2.4)\r\n",
      "Requirement already satisfied: mkl_umath in /usr/local/lib/python3.11/dist-packages (from numpy->rdkit==2025.3.3) (0.1.1)\r\n",
      "Requirement already satisfied: mkl in /usr/local/lib/python3.11/dist-packages (from numpy->rdkit==2025.3.3) (2025.1.0)\r\n",
      "Requirement already satisfied: tbb4py in /usr/local/lib/python3.11/dist-packages (from numpy->rdkit==2025.3.3) (2022.1.0)\r\n",
      "Requirement already satisfied: mkl-service in /usr/local/lib/python3.11/dist-packages (from numpy->rdkit==2025.3.3) (2.4.1)\r\n",
      "Requirement already satisfied: intel-openmp<2026,>=2024 in /usr/local/lib/python3.11/dist-packages (from mkl->numpy->rdkit==2025.3.3) (2024.2.0)\r\n",
      "Requirement already satisfied: tbb==2022.* in /usr/local/lib/python3.11/dist-packages (from mkl->numpy->rdkit==2025.3.3) (2022.1.0)\r\n",
      "Requirement already satisfied: tcmlib==1.* in /usr/local/lib/python3.11/dist-packages (from tbb==2022.*->mkl->numpy->rdkit==2025.3.3) (1.3.0)\r\n",
      "Requirement already satisfied: intel-cmplr-lib-rt in /usr/local/lib/python3.11/dist-packages (from mkl_umath->numpy->rdkit==2025.3.3) (2024.2.0)\r\n",
      "Requirement already satisfied: intel-cmplr-lib-ur==2024.2.0 in /usr/local/lib/python3.11/dist-packages (from intel-openmp<2026,>=2024->mkl->numpy->rdkit==2025.3.3) (2024.2.0)\r\n",
      "Installing collected packages: rdkit\r\n",
      "Successfully installed rdkit-2025.3.3\r\n",
      "Looking in links: file:///kaggle/input/mordred-1-2-0-py3-none-any/\r\n",
      "Processing /kaggle/input/mordred-1-2-0-py3-none-any/mordred-1.2.0-py3-none-any.whl\r\n",
      "Requirement already satisfied: six==1.* in /usr/local/lib/python3.11/dist-packages (from mordred) (1.17.0)\r\n",
      "Requirement already satisfied: numpy==1.* in /usr/local/lib/python3.11/dist-packages (from mordred) (1.26.4)\r\n",
      "Processing /kaggle/input/mordred-1-2-0-py3-none-any/networkx-2.8.8-py3-none-any.whl (from mordred)\r\n",
      "Requirement already satisfied: mkl_fft in /usr/local/lib/python3.11/dist-packages (from numpy==1.*->mordred) (1.3.8)\r\n",
      "Requirement already satisfied: mkl_random in /usr/local/lib/python3.11/dist-packages (from numpy==1.*->mordred) (1.2.4)\r\n",
      "Requirement already satisfied: mkl_umath in /usr/local/lib/python3.11/dist-packages (from numpy==1.*->mordred) (0.1.1)\r\n",
      "Requirement already satisfied: mkl in /usr/local/lib/python3.11/dist-packages (from numpy==1.*->mordred) (2025.1.0)\r\n",
      "Requirement already satisfied: tbb4py in /usr/local/lib/python3.11/dist-packages (from numpy==1.*->mordred) (2022.1.0)\r\n",
      "Requirement already satisfied: mkl-service in /usr/local/lib/python3.11/dist-packages (from numpy==1.*->mordred) (2.4.1)\r\n",
      "Requirement already satisfied: intel-openmp<2026,>=2024 in /usr/local/lib/python3.11/dist-packages (from mkl->numpy==1.*->mordred) (2024.2.0)\r\n",
      "Requirement already satisfied: tbb==2022.* in /usr/local/lib/python3.11/dist-packages (from mkl->numpy==1.*->mordred) (2022.1.0)\r\n",
      "Requirement already satisfied: tcmlib==1.* in /usr/local/lib/python3.11/dist-packages (from tbb==2022.*->mkl->numpy==1.*->mordred) (1.3.0)\r\n",
      "Requirement already satisfied: intel-cmplr-lib-rt in /usr/local/lib/python3.11/dist-packages (from mkl_umath->numpy==1.*->mordred) (2024.2.0)\r\n",
      "Requirement already satisfied: intel-cmplr-lib-ur==2024.2.0 in /usr/local/lib/python3.11/dist-packages (from intel-openmp<2026,>=2024->mkl->numpy==1.*->mordred) (2024.2.0)\r\n",
      "Installing collected packages: networkx, mordred\r\n",
      "  Attempting uninstall: networkx\r\n",
      "    Found existing installation: networkx 3.4.2\r\n",
      "    Uninstalling networkx-3.4.2:\r\n",
      "      Successfully uninstalled networkx-3.4.2\r\n",
      "\u001b[31mERROR: pip's dependency resolver does not currently take into account all the packages that are installed. This behaviour is the source of the following dependency conflicts.\r\n",
      "scikit-image 0.25.2 requires networkx>=3.0, but you have networkx 2.8.8 which is incompatible.\r\n",
      "nx-cugraph-cu12 25.2.0 requires networkx>=3.2, but you have networkx 2.8.8 which is incompatible.\r\n",
      "torch 2.6.0+cu124 requires nvidia-cublas-cu12==12.4.5.8; platform_system == \"Linux\" and platform_machine == \"x86_64\", but you have nvidia-cublas-cu12 12.9.0.13 which is incompatible.\r\n",
      "torch 2.6.0+cu124 requires nvidia-cudnn-cu12==9.1.0.70; platform_system == \"Linux\" and platform_machine == \"x86_64\", but you have nvidia-cudnn-cu12 9.3.0.75 which is incompatible.\r\n",
      "torch 2.6.0+cu124 requires nvidia-cufft-cu12==11.2.1.3; platform_system == \"Linux\" and platform_machine == \"x86_64\", but you have nvidia-cufft-cu12 11.4.0.6 which is incompatible.\r\n",
      "torch 2.6.0+cu124 requires nvidia-curand-cu12==10.3.5.147; platform_system == \"Linux\" and platform_machine == \"x86_64\", but you have nvidia-curand-cu12 10.3.10.19 which is incompatible.\r\n",
      "torch 2.6.0+cu124 requires nvidia-cusolver-cu12==11.6.1.9; platform_system == \"Linux\" and platform_machine == \"x86_64\", but you have nvidia-cusolver-cu12 11.7.4.40 which is incompatible.\r\n",
      "torch 2.6.0+cu124 requires nvidia-cusparse-cu12==12.3.1.170; platform_system == \"Linux\" and platform_machine == \"x86_64\", but you have nvidia-cusparse-cu12 12.5.9.5 which is incompatible.\r\n",
      "torch 2.6.0+cu124 requires nvidia-nvjitlink-cu12==12.4.127; platform_system == \"Linux\" and platform_machine == \"x86_64\", but you have nvidia-nvjitlink-cu12 12.9.41 which is incompatible.\u001b[0m\u001b[31m\r\n",
      "\u001b[0mSuccessfully installed mordred-1.2.0 networkx-2.8.8\r\n"
     ]
    }
   ],
   "source": [
    "!pip install /kaggle/input/rdkit-2025-3-3-cp311/rdkit-2025.3.3-cp311-cp311-manylinux_2_28_x86_64.whl\n",
    "!pip install mordred --no-index --find-links=file:///kaggle/input/mordred-1-2-0-py3-none-any/"
   ]
  },
  {
   "cell_type": "code",
   "execution_count": 2,
   "id": "ae3e7a60",
   "metadata": {
    "execution": {
     "iopub.execute_input": "2025-09-04T08:10:10.066503Z",
     "iopub.status.busy": "2025-09-04T08:10:10.066169Z",
     "iopub.status.idle": "2025-09-04T08:10:20.079268Z",
     "shell.execute_reply": "2025-09-04T08:10:20.078314Z"
    },
    "papermill": {
     "duration": 10.023271,
     "end_time": "2025-09-04T08:10:20.080953",
     "exception": false,
     "start_time": "2025-09-04T08:10:10.057682",
     "status": "completed"
    },
    "tags": []
   },
   "outputs": [],
   "source": [
    " # Importing Required Libraries\\nLet's begin by importing the essential Python libraries needed for data processing, visualization, and modeling.\n",
    "\n",
    "import pandas as pd\n",
    "import numpy as np\n",
    "\n",
    "\n",
    "from sklearn.ensemble import HistGradientBoostingRegressor,ExtraTreesRegressor\n",
    "from catboost import CatBoostRegressor\n",
    "from sklearn.model_selection import train_test_split\n",
    "from sklearn.metrics import mean_absolute_error\n",
    "from mordred import Calculator, descriptors\n",
    "from sklearn.feature_selection import RFE\n",
    "import networkx as nx\n",
    "from rdkit.Chem import AllChem\n",
    "from rdkit.Chem import Descriptors\n",
    "from rdkit.Chem import rdmolops\n",
    "from rdkit import Chem\n",
    "\n",
    "from sklearn.neural_network import MLPRegressor\n",
    "from sklearn.ensemble import (\n",
    "    RandomForestRegressor,\n",
    "    ExtraTreesRegressor,\n",
    "    GradientBoostingRegressor,\n",
    "    HistGradientBoostingRegressor\n",
    ")\n",
    "from xgboost import XGBRegressor\n",
    "from lightgbm import LGBMRegressor\n",
    "from catboost import CatBoostRegressor\n",
    "from sklearn.preprocessing import StandardScaler\n",
    "\n",
    "import warnings\n",
    "warnings.filterwarnings(\"ignore\")\n",
    "pd.set_option('display.max_columns', None)"
   ]
  },
  {
   "cell_type": "code",
   "execution_count": 3,
   "id": "2e482409",
   "metadata": {
    "execution": {
     "iopub.execute_input": "2025-09-04T08:10:20.099302Z",
     "iopub.status.busy": "2025-09-04T08:10:20.097975Z",
     "iopub.status.idle": "2025-09-04T08:10:20.102489Z",
     "shell.execute_reply": "2025-09-04T08:10:20.101601Z"
    },
    "papermill": {
     "duration": 0.015307,
     "end_time": "2025-09-04T08:10:20.104155",
     "exception": false,
     "start_time": "2025-09-04T08:10:20.088848",
     "status": "completed"
    },
    "tags": []
   },
   "outputs": [],
   "source": [
    "# class CFG:\n",
    "#     TARGETS = ['Tg', 'FFV', 'Tc', 'Density', 'Rg']\n",
    "#     SEED = 42\n",
    "#     FOLDS = 10"
   ]
  },
  {
   "cell_type": "code",
   "execution_count": 4,
   "id": "672d698e",
   "metadata": {
    "execution": {
     "iopub.execute_input": "2025-09-04T08:10:20.121138Z",
     "iopub.status.busy": "2025-09-04T08:10:20.120807Z",
     "iopub.status.idle": "2025-09-04T08:10:20.126037Z",
     "shell.execute_reply": "2025-09-04T08:10:20.125192Z"
    },
    "papermill": {
     "duration": 0.0155,
     "end_time": "2025-09-04T08:10:20.127450",
     "exception": false,
     "start_time": "2025-09-04T08:10:20.111950",
     "status": "completed"
    },
    "tags": []
   },
   "outputs": [],
   "source": [
    "# useless_cols = [   \n",
    "    \n",
    "#     'MaxPartialCharge', \n",
    "#     # Nan data\n",
    "#     'BCUT2D_MWHI',\n",
    "#     'BCUT2D_MWLOW',\n",
    "#     'BCUT2D_CHGHI',\n",
    "#     'BCUT2D_CHGLO',\n",
    "#     'BCUT2D_LOGPHI',\n",
    "#     'BCUT2D_LOGPLOW',\n",
    "#     'BCUT2D_MRHI',\n",
    "#     'BCUT2D_MRLOW',\n",
    "\n",
    "#     # Constant data\n",
    "#     'NumRadicalElectrons',\n",
    "#     'SMR_VSA8',\n",
    "#     'SlogP_VSA9',\n",
    "#     'fr_barbitur',\n",
    "#     'fr_benzodiazepine',\n",
    "#     'fr_dihydropyridine',\n",
    "#     'fr_epoxide',\n",
    "#     'fr_isothiocyan',\n",
    "#     'fr_lactam',\n",
    "#     'fr_nitroso',\n",
    "#     'fr_prisulfonamd',\n",
    "#     'fr_thiocyan',\n",
    "\n",
    "#     # High correlated data >0.95\n",
    "#     'MaxEStateIndex',\n",
    "#     'HeavyAtomMolWt',\n",
    "#     'ExactMolWt',\n",
    "#     'NumValenceElectrons',\n",
    "#     'Chi0',\n",
    "#     'Chi0n',\n",
    "#     'Chi0v',\n",
    "#     'Chi1',\n",
    "#     'Chi1n',\n",
    "#     'Chi1v',\n",
    "#     'Chi2n',\n",
    "#     'Kappa1',\n",
    "#     'LabuteASA',\n",
    "#     'HeavyAtomCount',\n",
    "#     'MolMR',\n",
    "#     'Chi3n',\n",
    "#     'BertzCT',\n",
    "#     'Chi2v',\n",
    "#     'Chi4n',\n",
    "#     'HallKierAlpha',\n",
    "#     'Chi3v',\n",
    "#     'Chi4v',\n",
    "#     'MinAbsPartialCharge',\n",
    "#     'MinPartialCharge',\n",
    "#     'MaxAbsPartialCharge',\n",
    "#     'FpDensityMorgan2',\n",
    "#     'FpDensityMorgan3',\n",
    "#     'Phi',\n",
    "#     'Kappa3',\n",
    "#     'fr_nitrile',\n",
    "#     'SlogP_VSA6',\n",
    "#     'NumAromaticCarbocycles',\n",
    "#     'NumAromaticRings',\n",
    "#     'fr_benzene',\n",
    "#     'VSA_EState6',\n",
    "#     'NOCount',\n",
    "#     'fr_C_O',\n",
    "#     'fr_C_O_noCOO',\n",
    "#     'NumHDonors',\n",
    "#     'fr_amide',\n",
    "#     'fr_Nhpyrrole',\n",
    "#     'fr_phenol',\n",
    "#     'fr_phenol_noOrthoHbond',\n",
    "#     'fr_COO2',\n",
    "#     'fr_halogen',\n",
    "#     'fr_diazo',\n",
    "#     'fr_nitro_arom',\n",
    "#     'fr_phos_ester'\n",
    "# ]\n",
    "\n",
    "SEED = 42"
   ]
  },
  {
   "cell_type": "markdown",
   "id": "10975cec",
   "metadata": {
    "papermill": {
     "duration": 0.00791,
     "end_time": "2025-09-04T08:10:20.143228",
     "exception": false,
     "start_time": "2025-09-04T08:10:20.135318",
     "status": "completed"
    },
    "tags": []
   },
   "source": [
    "# Read Files"
   ]
  },
  {
   "cell_type": "markdown",
   "id": "0c475d06",
   "metadata": {
    "papermill": {
     "duration": 0.00744,
     "end_time": "2025-09-04T08:10:20.158414",
     "exception": false,
     "start_time": "2025-09-04T08:10:20.150974",
     "status": "completed"
    },
    "tags": []
   },
   "source": [
    "### Main Files"
   ]
  },
  {
   "cell_type": "code",
   "execution_count": 5,
   "id": "2ebd6222",
   "metadata": {
    "execution": {
     "iopub.execute_input": "2025-09-04T08:10:20.175093Z",
     "iopub.status.busy": "2025-09-04T08:10:20.174777Z",
     "iopub.status.idle": "2025-09-04T08:10:20.229056Z",
     "shell.execute_reply": "2025-09-04T08:10:20.228302Z"
    },
    "papermill": {
     "duration": 0.064506,
     "end_time": "2025-09-04T08:10:20.230628",
     "exception": false,
     "start_time": "2025-09-04T08:10:20.166122",
     "status": "completed"
    },
    "tags": []
   },
   "outputs": [],
   "source": [
    " #We will load both the training and test datasets using pandas, and store test IDs \n",
    "train=pd.read_csv('/kaggle/input/neurips-open-polymer-prediction-2025/train.csv')\n",
    "test=pd.read_csv('/kaggle/input/neurips-open-polymer-prediction-2025/test.csv')\n",
    "ss=pd.read_csv('/kaggle/input/neurips-open-polymer-prediction-2025/sample_submission.csv')\n",
    "ID=test['id']"
   ]
  },
  {
   "cell_type": "code",
   "execution_count": 6,
   "id": "2101cfe5",
   "metadata": {
    "execution": {
     "iopub.execute_input": "2025-09-04T08:10:20.247329Z",
     "iopub.status.busy": "2025-09-04T08:10:20.246978Z",
     "iopub.status.idle": "2025-09-04T08:10:21.123409Z",
     "shell.execute_reply": "2025-09-04T08:10:21.122379Z"
    },
    "papermill": {
     "duration": 0.886531,
     "end_time": "2025-09-04T08:10:21.125016",
     "exception": false,
     "start_time": "2025-09-04T08:10:20.238485",
     "status": "completed"
    },
    "tags": []
   },
   "outputs": [
    {
     "name": "stderr",
     "output_type": "stream",
     "text": [
      "100%|██████████| 3/3 [00:00<00:00,  4.59it/s]\n"
     ]
    },
    {
     "data": {
      "text/plain": [
       "(3, 1613)"
      ]
     },
     "execution_count": 6,
     "metadata": {},
     "output_type": "execute_result"
    }
   ],
   "source": [
    "mols_test = [Chem.MolFromSmiles(s) for s in test.SMILES]\n",
    "\n",
    "# Initialize the Mordred Calculator\n",
    "calc = Calculator(descriptors, ignore_3D=True) # ignore_3D=True for 2D descriptors\n",
    "\n",
    "desc_test = calc.pandas(mols_test)\n",
    "desc_test.shape"
   ]
  },
  {
   "cell_type": "code",
   "execution_count": 7,
   "id": "514e26df",
   "metadata": {
    "execution": {
     "iopub.execute_input": "2025-09-04T08:10:21.143133Z",
     "iopub.status.busy": "2025-09-04T08:10:21.142787Z",
     "iopub.status.idle": "2025-09-04T08:10:45.688667Z",
     "shell.execute_reply": "2025-09-04T08:10:45.687577Z"
    },
    "papermill": {
     "duration": 24.557275,
     "end_time": "2025-09-04T08:10:45.690607",
     "exception": false,
     "start_time": "2025-09-04T08:10:21.133332",
     "status": "completed"
    },
    "tags": []
   },
   "outputs": [],
   "source": [
    "tc_smiles =pd.read_csv('/kaggle/input/tc-smiles/Tc_SMILES.csv',      low_memory=False)\n",
    "tg_smiles =pd.read_csv('/kaggle/input/smiles-extra-data/JCIM_sup_bigsmiles.csv',      low_memory=False)\n",
    "ktg_smiles =pd.read_excel('/kaggle/input/smiles-extra-data/data_tg3.xlsx')\n",
    "de_smiles =pd.read_excel('/kaggle/input/smiles-extra-data/data_dnst1.xlsx')\n",
    "ds1_smiles=pd.read_csv('/kaggle/input/neurips-open-polymer-prediction-2025/train_supplement/dataset1.csv',      low_memory=False)\n",
    "ds2_smiles=pd.read_csv('/kaggle/input/neurips-open-polymer-prediction-2025/train_supplement/dataset2.csv',      low_memory=False)\n",
    "ds3_smiles=pd.read_csv('/kaggle/input/neurips-open-polymer-prediction-2025/train_supplement/dataset3.csv',      low_memory=False)\n",
    "ds4_smiles=pd.read_csv('/kaggle/input/neurips-open-polymer-prediction-2025/train_supplement/dataset4.csv',      low_memory=False)\n",
    "\n",
    "tg_ds      = pd.read_csv('/kaggle/input/modred-dataset/desc_tg.csv',      low_memory=False)\n",
    "tc_ds      = pd.read_csv('/kaggle/input/modred-dataset/desc_tc.csv',      low_memory=False)\n",
    "rg_ds      = pd.read_csv('/kaggle/input/modred-dataset/desc_rg.csv',      low_memory=False)\n",
    "ffv_ds     = pd.read_csv('/kaggle/input/modred-dataset/desc_ffv.csv',     low_memory=False)\n",
    "den_ds     = pd.read_csv('/kaggle/input/modred-dataset/desc_de.csv',      low_memory=False)"
   ]
  },
  {
   "cell_type": "markdown",
   "id": "5d086fa8",
   "metadata": {
    "papermill": {
     "duration": 0.007828,
     "end_time": "2025-09-04T08:10:45.706895",
     "exception": false,
     "start_time": "2025-09-04T08:10:45.699067",
     "status": "completed"
    },
    "tags": []
   },
   "source": [
    "### Extra Files"
   ]
  },
  {
   "cell_type": "markdown",
   "id": "d449b5b2",
   "metadata": {
    "papermill": {
     "duration": 0.007795,
     "end_time": "2025-09-04T08:10:45.722718",
     "exception": false,
     "start_time": "2025-09-04T08:10:45.714923",
     "status": "completed"
    },
    "tags": []
   },
   "source": [
    "# Preprocessing "
   ]
  },
  {
   "cell_type": "code",
   "execution_count": 8,
   "id": "5cc10b65",
   "metadata": {
    "execution": {
     "iopub.execute_input": "2025-09-04T08:10:45.739863Z",
     "iopub.status.busy": "2025-09-04T08:10:45.739514Z",
     "iopub.status.idle": "2025-09-04T08:10:49.073157Z",
     "shell.execute_reply": "2025-09-04T08:10:49.072467Z"
    },
    "papermill": {
     "duration": 3.34418,
     "end_time": "2025-09-04T08:10:49.074830",
     "exception": false,
     "start_time": "2025-09-04T08:10:45.730650",
     "status": "completed"
    },
    "tags": []
   },
   "outputs": [],
   "source": [
    "for i in (tg_ds,tc_ds,rg_ds,ffv_ds,den_ds):\n",
    "     i.drop(columns=[col for col in i.columns if i[col].nunique() == 1],axis=1,inplace=True)\n",
    "\n",
    "tg_ds = tg_ds.select_dtypes(exclude=['object', 'category'])\n",
    "rg_ds = rg_ds.select_dtypes(exclude=['object', 'category'])\n",
    "ffv_ds = ffv_ds.select_dtypes(exclude=['object', 'category'])\n",
    "tc_ds = tc_ds.select_dtypes(exclude=['object', 'category'])\n",
    "den_ds = den_ds.select_dtypes(exclude=['object', 'category'])"
   ]
  },
  {
   "cell_type": "code",
   "execution_count": 9,
   "id": "610b946a",
   "metadata": {
    "execution": {
     "iopub.execute_input": "2025-09-04T08:10:49.091952Z",
     "iopub.status.busy": "2025-09-04T08:10:49.091637Z",
     "iopub.status.idle": "2025-09-04T08:10:53.220905Z",
     "shell.execute_reply": "2025-09-04T08:10:53.220053Z"
    },
    "papermill": {
     "duration": 4.139638,
     "end_time": "2025-09-04T08:10:53.222567",
     "exception": false,
     "start_time": "2025-09-04T08:10:49.082929",
     "status": "completed"
    },
    "tags": []
   },
   "outputs": [],
   "source": [
    "def make_smile_canonical(smile): # To avoid duplicates, for example: canonical '*C=C(*)C' == '*C(=C*)C'\n",
    "    try:\n",
    "        mol = Chem.MolFromSmiles(smile)\n",
    "        canon_smile = Chem.MolToSmiles(mol, canonical=True)\n",
    "        return canon_smile\n",
    "    except:\n",
    "        return np.nan\n",
    "\n",
    "train['SMILES'] = train['SMILES'].apply(lambda s: make_smile_canonical(s))\n",
    "test['SMILES'] = test['SMILES'].apply(lambda s: make_smile_canonical(s))"
   ]
  },
  {
   "cell_type": "code",
   "execution_count": 10,
   "id": "2bcd1eeb",
   "metadata": {
    "execution": {
     "iopub.execute_input": "2025-09-04T08:10:53.240200Z",
     "iopub.status.busy": "2025-09-04T08:10:53.239643Z",
     "iopub.status.idle": "2025-09-04T08:10:53.246067Z",
     "shell.execute_reply": "2025-09-04T08:10:53.245320Z"
    },
    "papermill": {
     "duration": 0.016445,
     "end_time": "2025-09-04T08:10:53.247311",
     "exception": false,
     "start_time": "2025-09-04T08:10:53.230866",
     "status": "completed"
    },
    "tags": []
   },
   "outputs": [],
   "source": [
    "ktg_smiles.rename(columns={'Tg [K]': 'Tg'}, inplace=True)\n",
    "tg_smiles.rename(columns={'Tg (C)': 'Tg'}, inplace=True)\n",
    "tc_smiles.rename(columns={'TC_mean': 'Tc'}, inplace=True)\n",
    "de_smiles.rename(columns={'density(g/cm3)': 'Density'}, inplace=True)\n",
    "ds1_smiles.rename(columns={'TC_mean': 'Tc'}, inplace=True)"
   ]
  },
  {
   "cell_type": "code",
   "execution_count": 11,
   "id": "4ec96ff6",
   "metadata": {
    "execution": {
     "iopub.execute_input": "2025-09-04T08:10:53.265071Z",
     "iopub.status.busy": "2025-09-04T08:10:53.264252Z",
     "iopub.status.idle": "2025-09-04T08:10:53.404730Z",
     "shell.execute_reply": "2025-09-04T08:10:53.403823Z"
    },
    "papermill": {
     "duration": 0.151188,
     "end_time": "2025-09-04T08:10:53.406588",
     "exception": false,
     "start_time": "2025-09-04T08:10:53.255400",
     "status": "completed"
    },
    "tags": []
   },
   "outputs": [
    {
     "name": "stderr",
     "output_type": "stream",
     "text": [
      "[08:10:53] SMILES Parse Error: syntax error while parsing: *O[Si](*)([R])[R]\n",
      "[08:10:53] SMILES Parse Error: check for mistakes around position 12:\n",
      "[08:10:53] *O[Si](*)([R])[R]\n",
      "[08:10:53] ~~~~~~~~~~~^\n",
      "[08:10:53] SMILES Parse Error: Failed parsing SMILES '*O[Si](*)([R])[R]' for input: '*O[Si](*)([R])[R]'\n",
      "[08:10:53] SMILES Parse Error: syntax error while parsing: *NC(=O)c4ccc3c(=O)n(c2ccc([R]c1ccc(*)cc1)cc2)c(=O)c3c4\n",
      "[08:10:53] SMILES Parse Error: check for mistakes around position 28:\n",
      "[08:10:53] c4ccc3c(=O)n(c2ccc([R]c1ccc(*)cc1)cc2)c(=\n",
      "[08:10:53] ~~~~~~~~~~~~~~~~~~~~^\n",
      "[08:10:53] SMILES Parse Error: Failed parsing SMILES '*NC(=O)c4ccc3c(=O)n(c2ccc([R]c1ccc(*)cc1)cc2)c(=O)c3c4' for input: '*NC(=O)c4ccc3c(=O)n(c2ccc([R]c1ccc(*)cc1)cc2)c(=O)c3c4'\n",
      "[08:10:53] SMILES Parse Error: syntax error while parsing: O=C=N[R1]N=C=O.O[R2]O.O[R3]O\n",
      "[08:10:53] SMILES Parse Error: check for mistakes around position 7:\n",
      "[08:10:53] O=C=N[R1]N=C=O.O[R2]O.O[R3]O\n",
      "[08:10:53] ~~~~~~^\n",
      "[08:10:53] SMILES Parse Error: Failed parsing SMILES 'O=C=N[R1]N=C=O.O[R2]O.O[R3]O' for input: 'O=C=N[R1]N=C=O.O[R2]O.O[R3]O'\n",
      "[08:10:53] SMILES Parse Error: syntax error while parsing: *CN([R'])Cc2cc([R]c1cc(*)c(O)c(CN([R'])C*)c1)cc(*)c2O\n",
      "[08:10:53] SMILES Parse Error: check for mistakes around position 6:\n",
      "[08:10:53] *CN([R'])Cc2cc([R]c1cc(*)c(O)c(CN([R'])C*\n",
      "[08:10:53] ~~~~~^\n",
      "[08:10:53] SMILES Parse Error: Failed parsing SMILES '*CN([R'])Cc2cc([R]c1cc(*)c(O)c(CN([R'])C*)c1)cc(*)c2O' for input: '*CN([R'])Cc2cc([R]c1cc(*)c(O)c(CN([R'])C*)c1)cc(*)c2O'\n",
      "[08:10:53] SMILES Parse Error: syntax error while parsing: *C(F)(F)CC(F)([R])C(*)(F)F\n",
      "[08:10:53] SMILES Parse Error: check for mistakes around position 16:\n",
      "[08:10:53] *C(F)(F)CC(F)([R])C(*)(F)F\n",
      "[08:10:53] ~~~~~~~~~~~~~~~^\n",
      "[08:10:53] SMILES Parse Error: Failed parsing SMILES '*C(F)(F)CC(F)([R])C(*)(F)F' for input: '*C(F)(F)CC(F)([R])C(*)(F)F'\n",
      "[08:10:53] SMILES Parse Error: syntax error while parsing: *OC2OC(CO[R])C(OC1OC(CO[R])C(*)C(O[R])C1O[R])C(O[R])C2O[R]\n",
      "[08:10:53] SMILES Parse Error: check for mistakes around position 11:\n",
      "[08:10:53] *OC2OC(CO[R])C(OC1OC(CO[R])C(*)C(O[R])C1O\n",
      "[08:10:53] ~~~~~~~~~~^\n",
      "[08:10:53] SMILES Parse Error: Failed parsing SMILES '*OC2OC(CO[R])C(OC1OC(CO[R])C(*)C(O[R])C1O[R])C(O[R])C2O[R]' for input: '*OC2OC(CO[R])C(OC1OC(CO[R])C(*)C(O[R])C1O[R])C(O[R])C2O[R]'\n"
     ]
    }
   ],
   "source": [
    "de_smiles['SMILES'] = de_smiles['SMILES'].apply(lambda s: make_smile_canonical(s))\n",
    "de_smiles = de_smiles[(de_smiles['SMILES'].notnull())&(de_smiles['Density'].notnull())&(de_smiles['Density'] != 'nylon')]\n",
    "de_smiles['Density'] = de_smiles['Density'].astype('float64')\n",
    "de_smiles['Density'] -= 0.118\n",
    "\n",
    "ktg_smiles['Tg'] = ktg_smiles['Tg'] - 273.15"
   ]
  },
  {
   "cell_type": "code",
   "execution_count": 12,
   "id": "75f4cf42",
   "metadata": {
    "execution": {
     "iopub.execute_input": "2025-09-04T08:10:53.424760Z",
     "iopub.status.busy": "2025-09-04T08:10:53.424154Z",
     "iopub.status.idle": "2025-09-04T08:10:53.430134Z",
     "shell.execute_reply": "2025-09-04T08:10:53.429467Z"
    },
    "papermill": {
     "duration": 0.016366,
     "end_time": "2025-09-04T08:10:53.431535",
     "exception": false,
     "start_time": "2025-09-04T08:10:53.415169",
     "status": "completed"
    },
    "tags": []
   },
   "outputs": [],
   "source": [
    "def preprocessing(df):\n",
    "    desc_names = [desc[0] for desc in Descriptors.descList if desc[0] not in useless_cols]\n",
    "    descriptors = [compute_all_descriptors(smi) for smi in df['SMILES'].to_list()]\n",
    "\n",
    "    graph_feats = {'graph_diameter': [], 'avg_shortest_path': [], 'num_cycles': []}\n",
    "    for smile in df['SMILES']:\n",
    "         compute_graph_features(smile, graph_feats)\n",
    "        \n",
    "    result = pd.concat(\n",
    "        [\n",
    "            pd.DataFrame(descriptors, columns=desc_names),\n",
    "            pd.DataFrame(graph_feats)\n",
    "        ],\n",
    "        axis=1\n",
    "    )\n",
    "\n",
    "    result = result.replace([-np.inf, np.inf], np.nan)\n",
    "    return result"
   ]
  },
  {
   "cell_type": "markdown",
   "id": "b923a281",
   "metadata": {
    "papermill": {
     "duration": 0.00763,
     "end_time": "2025-09-04T08:10:53.447302",
     "exception": false,
     "start_time": "2025-09-04T08:10:53.439672",
     "status": "completed"
    },
    "tags": []
   },
   "source": [
    "# Feature Extraction "
   ]
  },
  {
   "cell_type": "code",
   "execution_count": 13,
   "id": "8310eb79",
   "metadata": {
    "execution": {
     "iopub.execute_input": "2025-09-04T08:10:53.526769Z",
     "iopub.status.busy": "2025-09-04T08:10:53.526486Z",
     "iopub.status.idle": "2025-09-04T08:10:55.429312Z",
     "shell.execute_reply": "2025-09-04T08:10:55.428306Z"
    },
    "papermill": {
     "duration": 1.913527,
     "end_time": "2025-09-04T08:10:55.430725",
     "exception": false,
     "start_time": "2025-09-04T08:10:53.517198",
     "status": "completed"
    },
    "tags": []
   },
   "outputs": [
    {
     "name": "stdout",
     "output_type": "stream",
     "text": [
      "\n",
      "For target \"Tc\" added 129 new samples!\n",
      "New unique SMILES: 129\n",
      "\n",
      "For target \"Tg\" added 151 new samples!\n",
      "New unique SMILES: 136\n",
      "\n",
      "For target \"Tg\" added 499 new samples!\n",
      "New unique SMILES: 499\n",
      "\n",
      "For target \"Density\" added 634 new samples!\n",
      "New unique SMILES: 524\n",
      "\n",
      "For target \"Tc\" added 0 new samples!\n",
      "New unique SMILES: 0\n",
      "\n",
      "For target \"Tg\" added 0 new samples!\n",
      "New unique SMILES: 0\n",
      "\n",
      "For target \"FFV\" added 862 new samples!\n",
      "New unique SMILES: 819\n"
     ]
    }
   ],
   "source": [
    "# SMILESを正規化（canonical化）\n",
    "# 重複する SMILES を集約して平均 target 値に\n",
    "# df_train に存在するが欠損している target に、df_extra から値を補完\n",
    "\n",
    "def add_extra_data(df_train, df_extra, target):\n",
    "    n_samples_before = len(df_train[df_train[target].notnull()])\n",
    "    \n",
    "    df_extra['SMILES'] = df_extra['SMILES'].apply(lambda s: make_smile_canonical(s))\n",
    "    df_extra = df_extra.groupby('SMILES', as_index=False)[target].mean()\n",
    "    cross_smiles = set(df_extra['SMILES']) & set(df_train['SMILES'])\n",
    "    unique_smiles_extra = set(df_extra['SMILES']) - set(df_train['SMILES'])\n",
    "\n",
    "    # Make priority target value from competition's df\n",
    "    for smile in df_train[df_train[target].notnull()]['SMILES'].tolist():\n",
    "        if smile in cross_smiles:\n",
    "            cross_smiles.remove(smile)\n",
    "\n",
    "    # Imput missing values for competition's SMILES\n",
    "    for smile in cross_smiles:\n",
    "        df_train.loc[df_train['SMILES']==smile, target] = df_extra[df_extra['SMILES']==smile][target].values[0]\n",
    "    \n",
    "    df_train = pd.concat([df_train, df_extra[df_extra['SMILES'].isin(unique_smiles_extra)]], axis=0).reset_index(drop=True)\n",
    "\n",
    "    n_samples_after = len(df_train[df_train[target].notnull()])\n",
    "    print(f'\\nFor target \"{target}\" added {n_samples_after-n_samples_before} new samples!')\n",
    "    print(f'New unique SMILES: {len(unique_smiles_extra)}')\n",
    "    return df_train\n",
    "\n",
    "train = add_extra_data(train, tc_smiles, 'Tc')\n",
    "train = add_extra_data(train, tg_smiles, 'Tg')\n",
    "train = add_extra_data(train, ktg_smiles, 'Tg')\n",
    "train = add_extra_data(train, de_smiles, 'Density')\n",
    "\n",
    "train = add_extra_data(train, ds1_smiles, 'Tc')\n",
    "#train = add_extra_data(train, ds2_smiles, 'Density')\n",
    "train = add_extra_data(train, ds3_smiles, 'Tg')\n",
    "train = add_extra_data(train, ds4_smiles, 'FFV')"
   ]
  },
  {
   "cell_type": "code",
   "execution_count": 14,
   "id": "9c31fd43",
   "metadata": {
    "execution": {
     "iopub.execute_input": "2025-09-04T08:10:55.448998Z",
     "iopub.status.busy": "2025-09-04T08:10:55.448376Z",
     "iopub.status.idle": "2025-09-04T08:10:55.453473Z",
     "shell.execute_reply": "2025-09-04T08:10:55.452811Z"
    },
    "papermill": {
     "duration": 0.015442,
     "end_time": "2025-09-04T08:10:55.454685",
     "exception": false,
     "start_time": "2025-09-04T08:10:55.439243",
     "status": "completed"
    },
    "tags": []
   },
   "outputs": [
    {
     "data": {
      "text/plain": [
       "(9117, 594)"
      ]
     },
     "execution_count": 14,
     "metadata": {},
     "output_type": "execute_result"
    }
   ],
   "source": [
    "tg_ds.shape"
   ]
  },
  {
   "cell_type": "code",
   "execution_count": 15,
   "id": "5a9a9fe1",
   "metadata": {
    "execution": {
     "iopub.execute_input": "2025-09-04T08:10:55.472840Z",
     "iopub.status.busy": "2025-09-04T08:10:55.472228Z",
     "iopub.status.idle": "2025-09-04T08:10:55.495171Z",
     "shell.execute_reply": "2025-09-04T08:10:55.494385Z"
    },
    "papermill": {
     "duration": 0.03341,
     "end_time": "2025-09-04T08:10:55.496562",
     "exception": false,
     "start_time": "2025-09-04T08:10:55.463152",
     "status": "completed"
    },
    "tags": []
   },
   "outputs": [
    {
     "data": {
      "text/html": [
       "<div>\n",
       "<style scoped>\n",
       "    .dataframe tbody tr th:only-of-type {\n",
       "        vertical-align: middle;\n",
       "    }\n",
       "\n",
       "    .dataframe tbody tr th {\n",
       "        vertical-align: top;\n",
       "    }\n",
       "\n",
       "    .dataframe thead th {\n",
       "        text-align: right;\n",
       "    }\n",
       "</style>\n",
       "<table border=\"1\" class=\"dataframe\">\n",
       "  <thead>\n",
       "    <tr style=\"text-align: right;\">\n",
       "      <th></th>\n",
       "      <th>id</th>\n",
       "      <th>SMILES</th>\n",
       "      <th>Tg</th>\n",
       "      <th>FFV</th>\n",
       "      <th>Tc</th>\n",
       "      <th>Density</th>\n",
       "      <th>Rg</th>\n",
       "    </tr>\n",
       "  </thead>\n",
       "  <tbody>\n",
       "    <tr>\n",
       "      <th>0</th>\n",
       "      <td>87817.0</td>\n",
       "      <td>*CC(*)c1ccccc1C(=O)OCCCCCC</td>\n",
       "      <td>NaN</td>\n",
       "      <td>0.374645</td>\n",
       "      <td>0.205667</td>\n",
       "      <td>0.932</td>\n",
       "      <td>NaN</td>\n",
       "    </tr>\n",
       "    <tr>\n",
       "      <th>1</th>\n",
       "      <td>106919.0</td>\n",
       "      <td>*Nc1ccc([C@H](CCC)c2ccc(C3(c4ccc([C@@H](CCC)c5...</td>\n",
       "      <td>NaN</td>\n",
       "      <td>0.370410</td>\n",
       "      <td>NaN</td>\n",
       "      <td>NaN</td>\n",
       "      <td>NaN</td>\n",
       "    </tr>\n",
       "    <tr>\n",
       "      <th>2</th>\n",
       "      <td>388772.0</td>\n",
       "      <td>*Oc1ccc(S(=O)(=O)c2ccc(Oc3ccc(C4(c5ccc(Oc6ccc(...</td>\n",
       "      <td>NaN</td>\n",
       "      <td>0.378860</td>\n",
       "      <td>NaN</td>\n",
       "      <td>NaN</td>\n",
       "      <td>NaN</td>\n",
       "    </tr>\n",
       "    <tr>\n",
       "      <th>3</th>\n",
       "      <td>519416.0</td>\n",
       "      <td>*Nc1ccc(-c2c(-c3ccc(C)cc3)c(-c3ccc(C)cc3)c(N*)...</td>\n",
       "      <td>NaN</td>\n",
       "      <td>0.387324</td>\n",
       "      <td>NaN</td>\n",
       "      <td>NaN</td>\n",
       "      <td>NaN</td>\n",
       "    </tr>\n",
       "    <tr>\n",
       "      <th>4</th>\n",
       "      <td>539187.0</td>\n",
       "      <td>*Oc1ccc(OC(=O)c2cc(OCCCCCCCCCOCC3CCCN3c3ccc([N...</td>\n",
       "      <td>NaN</td>\n",
       "      <td>0.355470</td>\n",
       "      <td>NaN</td>\n",
       "      <td>NaN</td>\n",
       "      <td>NaN</td>\n",
       "    </tr>\n",
       "    <tr>\n",
       "      <th>...</th>\n",
       "      <td>...</td>\n",
       "      <td>...</td>\n",
       "      <td>...</td>\n",
       "      <td>...</td>\n",
       "      <td>...</td>\n",
       "      <td>...</td>\n",
       "      <td>...</td>\n",
       "    </tr>\n",
       "    <tr>\n",
       "      <th>10075</th>\n",
       "      <td>NaN</td>\n",
       "      <td>*c1cccc(OCCCCCCOc2cccc(N3C(=O)c4ccc(-c5cccc6c5...</td>\n",
       "      <td>NaN</td>\n",
       "      <td>0.349095</td>\n",
       "      <td>NaN</td>\n",
       "      <td>NaN</td>\n",
       "      <td>NaN</td>\n",
       "    </tr>\n",
       "    <tr>\n",
       "      <th>10076</th>\n",
       "      <td>NaN</td>\n",
       "      <td>*c1cccc(OCCCCCOc2cccc(N3C(=O)c4ccc(-c5cccc6c5C...</td>\n",
       "      <td>NaN</td>\n",
       "      <td>0.350892</td>\n",
       "      <td>NaN</td>\n",
       "      <td>NaN</td>\n",
       "      <td>NaN</td>\n",
       "    </tr>\n",
       "    <tr>\n",
       "      <th>10077</th>\n",
       "      <td>NaN</td>\n",
       "      <td>*c1cccc(OCCCCOc2cccc(N3C(=O)c4ccc(-c5cccc6c5C(...</td>\n",
       "      <td>NaN</td>\n",
       "      <td>0.345386</td>\n",
       "      <td>NaN</td>\n",
       "      <td>NaN</td>\n",
       "      <td>NaN</td>\n",
       "    </tr>\n",
       "    <tr>\n",
       "      <th>10078</th>\n",
       "      <td>NaN</td>\n",
       "      <td>*c1cccc(Oc2cccc(Oc3cccc(N4C(=O)c5ccc(Oc6ccc(Sc...</td>\n",
       "      <td>NaN</td>\n",
       "      <td>0.362224</td>\n",
       "      <td>NaN</td>\n",
       "      <td>NaN</td>\n",
       "      <td>NaN</td>\n",
       "    </tr>\n",
       "    <tr>\n",
       "      <th>10079</th>\n",
       "      <td>NaN</td>\n",
       "      <td>*c1cccc(P(C)(=O)c2cccc(N3C(=O)c4ccc(Oc5ccc(C(C...</td>\n",
       "      <td>NaN</td>\n",
       "      <td>0.369574</td>\n",
       "      <td>NaN</td>\n",
       "      <td>NaN</td>\n",
       "      <td>NaN</td>\n",
       "    </tr>\n",
       "  </tbody>\n",
       "</table>\n",
       "<p>10080 rows × 7 columns</p>\n",
       "</div>"
      ],
      "text/plain": [
       "             id                                             SMILES  Tg  \\\n",
       "0       87817.0                         *CC(*)c1ccccc1C(=O)OCCCCCC NaN   \n",
       "1      106919.0  *Nc1ccc([C@H](CCC)c2ccc(C3(c4ccc([C@@H](CCC)c5... NaN   \n",
       "2      388772.0  *Oc1ccc(S(=O)(=O)c2ccc(Oc3ccc(C4(c5ccc(Oc6ccc(... NaN   \n",
       "3      519416.0  *Nc1ccc(-c2c(-c3ccc(C)cc3)c(-c3ccc(C)cc3)c(N*)... NaN   \n",
       "4      539187.0  *Oc1ccc(OC(=O)c2cc(OCCCCCCCCCOCC3CCCN3c3ccc([N... NaN   \n",
       "...         ...                                                ...  ..   \n",
       "10075       NaN  *c1cccc(OCCCCCCOc2cccc(N3C(=O)c4ccc(-c5cccc6c5... NaN   \n",
       "10076       NaN  *c1cccc(OCCCCCOc2cccc(N3C(=O)c4ccc(-c5cccc6c5C... NaN   \n",
       "10077       NaN  *c1cccc(OCCCCOc2cccc(N3C(=O)c4ccc(-c5cccc6c5C(... NaN   \n",
       "10078       NaN  *c1cccc(Oc2cccc(Oc3cccc(N4C(=O)c5ccc(Oc6ccc(Sc... NaN   \n",
       "10079       NaN  *c1cccc(P(C)(=O)c2cccc(N3C(=O)c4ccc(Oc5ccc(C(C... NaN   \n",
       "\n",
       "            FFV        Tc  Density  Rg  \n",
       "0      0.374645  0.205667    0.932 NaN  \n",
       "1      0.370410       NaN      NaN NaN  \n",
       "2      0.378860       NaN      NaN NaN  \n",
       "3      0.387324       NaN      NaN NaN  \n",
       "4      0.355470       NaN      NaN NaN  \n",
       "...         ...       ...      ...  ..  \n",
       "10075  0.349095       NaN      NaN NaN  \n",
       "10076  0.350892       NaN      NaN NaN  \n",
       "10077  0.345386       NaN      NaN NaN  \n",
       "10078  0.362224       NaN      NaN NaN  \n",
       "10079  0.369574       NaN      NaN NaN  \n",
       "\n",
       "[10080 rows x 7 columns]"
      ]
     },
     "execution_count": 15,
     "metadata": {},
     "output_type": "execute_result"
    }
   ],
   "source": [
    "train"
   ]
  },
  {
   "cell_type": "markdown",
   "id": "b9a99a9a",
   "metadata": {
    "papermill": {
     "duration": 0.008458,
     "end_time": "2025-09-04T08:10:55.513816",
     "exception": false,
     "start_time": "2025-09-04T08:10:55.505358",
     "status": "completed"
    },
    "tags": []
   },
   "source": [
    "# Data Preparation For Model Training "
   ]
  },
  {
   "cell_type": "code",
   "execution_count": 16,
   "id": "fbd73406",
   "metadata": {
    "execution": {
     "iopub.execute_input": "2025-09-04T08:10:55.533141Z",
     "iopub.status.busy": "2025-09-04T08:10:55.532528Z",
     "iopub.status.idle": "2025-09-04T08:10:55.536626Z",
     "shell.execute_reply": "2025-09-04T08:10:55.535807Z"
    },
    "papermill": {
     "duration": 0.014866,
     "end_time": "2025-09-04T08:10:55.537972",
     "exception": false,
     "start_time": "2025-09-04T08:10:55.523106",
     "status": "completed"
    },
    "tags": []
   },
   "outputs": [],
   "source": [
    "# # We'll separate train to be one model for each target variable.\n",
    "# t_1=train[['SMILES','Tg']].copy()\n",
    "# t_2=train[['SMILES','FFV']].copy()\n",
    "# t_3=train[['SMILES','Tc']].copy()\n",
    "# t_4=train[['SMILES','Density']].copy()\n",
    "# t_5=train[['SMILES','Rg']].copy()\n",
    "\n",
    "# # We will drop the rows with missing values related to that target after separation.\n",
    "# #This is important , dropping them beforehand would result Null for all data.\n",
    "# t_1.dropna(inplace=True)\n",
    "# t_2.dropna(inplace=True)\n",
    "# t_3.dropna(inplace=True)\n",
    "# t_4.dropna(inplace=True)\n",
    "# t_5.dropna(inplace=True)\n",
    "\n",
    "# t_1.index = range(0, len(t_1))\n",
    "# t_2.index = range(0, len(t_2))\n",
    "# t_3.index = range(0, len(t_3))\n",
    "# t_4.index = range(0, len(t_4))\n",
    "# t_5.index = range(0, len(t_5))"
   ]
  },
  {
   "cell_type": "code",
   "execution_count": 17,
   "id": "95ab06a6",
   "metadata": {
    "execution": {
     "iopub.execute_input": "2025-09-04T08:10:55.557020Z",
     "iopub.status.busy": "2025-09-04T08:10:55.556385Z",
     "iopub.status.idle": "2025-09-04T08:10:55.560490Z",
     "shell.execute_reply": "2025-09-04T08:10:55.559636Z"
    },
    "papermill": {
     "duration": 0.015048,
     "end_time": "2025-09-04T08:10:55.561867",
     "exception": false,
     "start_time": "2025-09-04T08:10:55.546819",
     "status": "completed"
    },
    "tags": []
   },
   "outputs": [],
   "source": [
    "# mols_test_t1 = [Chem.MolFromSmiles(s) for s in t_1.SMILES]\n",
    "# mols_test_t2 = [Chem.MolFromSmiles(s) for s in t_2.SMILES]\n",
    "# mols_test_t3 = [Chem.MolFromSmiles(s) for s in t_3.SMILES]\n",
    "# mols_test_t4 = [Chem.MolFromSmiles(s) for s in t_4.SMILES]\n",
    "# mols_test_t5 = [Chem.MolFromSmiles(s) for s in t_5.SMILES]\n",
    "# # Initialize the Mordred Calculator\n",
    "# calc = Calculator(descriptors, ignore_3D=True) # ignore_3D=True for 2D descriptors\n",
    "\n",
    "# desc_t1 = calc.pandas(mols_test_t1)\n",
    "# desc_t2 = calc.pandas(mols_test_t1)\n",
    "# desc_t3 = calc.pandas(mols_test_t1)\n",
    "# desc_t4 = calc.pandas(mols_test_t1)\n",
    "# desc_t5 = calc.pandas(mols_test_t1)"
   ]
  },
  {
   "cell_type": "code",
   "execution_count": 18,
   "id": "c1a04786",
   "metadata": {
    "execution": {
     "iopub.execute_input": "2025-09-04T08:10:55.580676Z",
     "iopub.status.busy": "2025-09-04T08:10:55.580007Z",
     "iopub.status.idle": "2025-09-04T08:10:55.583699Z",
     "shell.execute_reply": "2025-09-04T08:10:55.583039Z"
    },
    "papermill": {
     "duration": 0.014395,
     "end_time": "2025-09-04T08:10:55.584923",
     "exception": false,
     "start_time": "2025-09-04T08:10:55.570528",
     "status": "completed"
    },
    "tags": []
   },
   "outputs": [],
   "source": [
    "# desc_t1['Tg']=t_1['Tg'].copy()\n",
    "# desc_t2['FFV']=t_2['FFV'].copy()\n",
    "# desc_t3['Tc']=t_3['Tc'].copy()\n",
    "# desc_t4['Density']=t_4['Density'].copy()\n",
    "# desc_t5['Rg']=t_5['Rg'].copy()"
   ]
  },
  {
   "cell_type": "code",
   "execution_count": 19,
   "id": "218c9735",
   "metadata": {
    "execution": {
     "iopub.execute_input": "2025-09-04T08:10:55.603542Z",
     "iopub.status.busy": "2025-09-04T08:10:55.603014Z",
     "iopub.status.idle": "2025-09-04T08:10:55.607064Z",
     "shell.execute_reply": "2025-09-04T08:10:55.606371Z"
    },
    "papermill": {
     "duration": 0.01495,
     "end_time": "2025-09-04T08:10:55.608418",
     "exception": false,
     "start_time": "2025-09-04T08:10:55.593468",
     "status": "completed"
    },
    "tags": []
   },
   "outputs": [],
   "source": [
    "# desc_t1 = desc_t1.select_dtypes(exclude=['object', 'category'])\n",
    "# desc_t2 = desc_t2.select_dtypes(exclude=['object', 'category'])\n",
    "# desc_t3 = desc_t3.select_dtypes(exclude=['object', 'category'])\n",
    "# desc_t4 = desc_t4.select_dtypes(exclude=['object', 'category'])\n",
    "# desc_t5 = desc_t5.select_dtypes(exclude=['object', 'category'])\n",
    "\n",
    "# tg_ds=pd.concat([tg_ds, desc_t1], ignore_index=True)\n",
    "# ffv_ds=pd.concat([ffv_ds, desc_t2], ignore_index=True)\n",
    "# tc_ds=pd.concat([tc_ds, desc_t3], ignore_index=True)\n",
    "# den_ds=pd.concat([den_ds, desc_t4], ignore_index=True)\n",
    "# rg_ds=pd.concat([rg_ds, desc_t5], ignore_index=True)\n",
    "# # tg=t_1.merge(train,on='SMILES',how='left')\n",
    "# # ffv=t_2.merge(train,on='SMILES',how='left')\n",
    "# # tc=t_3.merge(train,on='SMILES',how='left')\n",
    "# # density=t_4.merge(train,on='SMILES',how='left')\n",
    "# # rg=t_5.merge(train,on='SMILES',how='left')"
   ]
  },
  {
   "cell_type": "markdown",
   "id": "9b5f4bf0",
   "metadata": {
    "papermill": {
     "duration": 0.008264,
     "end_time": "2025-09-04T08:10:55.625453",
     "exception": false,
     "start_time": "2025-09-04T08:10:55.617189",
     "status": "completed"
    },
    "tags": []
   },
   "source": [
    "# Model "
   ]
  },
  {
   "cell_type": "code",
   "execution_count": 20,
   "id": "a7e1f7b4",
   "metadata": {
    "execution": {
     "iopub.execute_input": "2025-09-04T08:10:55.644147Z",
     "iopub.status.busy": "2025-09-04T08:10:55.643868Z",
     "iopub.status.idle": "2025-09-04T08:10:55.652108Z",
     "shell.execute_reply": "2025-09-04T08:10:55.651308Z"
    },
    "papermill": {
     "duration": 0.019396,
     "end_time": "2025-09-04T08:10:55.653420",
     "exception": false,
     "start_time": "2025-09-04T08:10:55.634024",
     "status": "completed"
    },
    "tags": []
   },
   "outputs": [],
   "source": [
    "\n",
    "def model(train_d,test_d,model,target,submission=False):\n",
    "    # We divide the data into training and validation sets for model evaluation\n",
    "    train_cols = set(train_d.columns) - {target}\n",
    "    test_cols = set(test_d.columns)\n",
    "   # Intersect the feature columns\n",
    "    common_cols = list(train_cols & test_cols)\n",
    "    X=train_d[common_cols].copy()\n",
    "    y=train_d[target].copy()\n",
    "    X_train,X_test,y_train,y_test=train_test_split(X,y,test_size=0.2,random_state=10)\n",
    "\n",
    "    Model=model()\n",
    "    if submission==False:\n",
    "       Model.fit(X_train,y_train)\n",
    "       y_pred=Model.predict(X_test)\n",
    "       return mean_absolute_error(y_pred,y_test)         # We assess our model performance using MAE metric\n",
    "    if submission==True:\n",
    "       Model.fit(X,y)\n",
    "       submission=Model.predict(test_d[common_cols].copy())\n",
    "       return submission\n",
    "\n",
    "# from sklearn.model_selection import train_test_split, cross_val_score, KFold, GroupKFold\n",
    "# from sklearn.metrics import mean_absolute_error, make_scorer\n",
    "# from sklearn.pipeline import Pipeline\n",
    "# from sklearn.impute import SimpleImputer\n",
    "# from sklearn.preprocessing import StandardScaler, OneHotEncoder\n",
    "# from sklearn.compose import ColumnTransformer\n",
    "\n",
    "# def model(train_df, test_df, model, target, preprocessing_steps=None, groups=None, submission=False, n_folds=5):\n",
    "\n",
    "#     # 1. Identify features\n",
    "#     train_features = set(train_df.columns) - {target}\n",
    "#     test_features = set(test_df.columns)\n",
    "#     common_features = list(train_features & test_features)\n",
    "    \n",
    "#     X = train_df[common_features].copy()\n",
    "#     y = train_df[target].copy()\n",
    "#     X_test = test_df[common_features].copy()\n",
    "\n",
    "#     # 2. Define a default preprocessing pipeline if none is provided\n",
    "#     if preprocessing_steps is None:\n",
    "#         # Identify numeric and categorical columns automatically\n",
    "#         numeric_features = X.select_dtypes(include=[np.number]).columns.tolist()\n",
    "#         categorical_features = X.select_dtypes(include=['object', 'category']).columns.tolist()\n",
    "\n",
    "#         numeric_transformer = Pipeline(steps=[\n",
    "#             ('imputer', SimpleImputer(strategy='median')),\n",
    "#             ('scaler', StandardScaler())\n",
    "#         ])\n",
    "#         categorical_transformer = Pipeline(steps=[\n",
    "#             ('imputer', SimpleImputer(strategy='most_frequent')),\n",
    "#             ('onehot', OneHotEncoder(handle_unknown='ignore', sparse_output=False))\n",
    "#         ])\n",
    "        \n",
    "#         preprocessing_steps = ColumnTransformer(transformers=[\n",
    "#             ('num', numeric_transformer, numeric_features),\n",
    "#             ('cat', categorical_transformer, categorical_features)\n",
    "#         ])\n",
    "\n",
    "#     # 3. Create the full pipeline (Preprocessing + Model)\n",
    "#     full_pipeline = Pipeline(steps=[\n",
    "#         ('preprocessor', preprocessing_steps),\n",
    "#         ('model', model)\n",
    "#     ])\n",
    "\n",
    "#     # 4. SUBMISSION MODE: Train on all data and predict\n",
    "#     if submission:\n",
    "#         print(\"Training final model on all data for submission...\")\n",
    "#         full_pipeline.fit(X, y)\n",
    "#         return full_pipeline.predict(X_test)\n",
    "\n",
    "#     # 5. EVALUATION MODE: Cross-Validate\n",
    "#     else:\n",
    "#         print(\"Evaluating model using cross-validation...\")\n",
    "        \n",
    "#         # Choose the CV strategy\n",
    "#         if groups is not None:\n",
    "#             cv = GroupKFold(n_splits=n_folds)\n",
    "#             cv_splitter = cv.split(X, y, groups=groups)\n",
    "#             print(\"Using GroupKFold to avoid data leakage.\")\n",
    "#         else:\n",
    "#             cv = KFold(n_splits=n_folds, shuffle=True, random_state=42)\n",
    "#             cv_splitter = cv.split(X, y)\n",
    "#             print(\"Using KFold cross-validation.\")\n",
    "\n",
    "#         # Perform Cross-Validation\n",
    "#         maes = cross_val_score(full_pipeline, X, y, \n",
    "#                               cv=cv_splitter, \n",
    "#                               scoring=make_scorer(mean_absolute_error),\n",
    "#                               n_jobs=-1) # Use all CPU cores\n",
    "\n",
    "#         # Also, get Out-of-Fold predictions for error analysis\n",
    "#         oof_predictions = np.zeros(len(X))\n",
    "#         for fold, (train_idx, val_idx) in enumerate(cv_splitter):\n",
    "#             X_train, X_val = X.iloc[train_idx], X.iloc[val_idx]\n",
    "#             y_train, y_val = y.iloc[train_idx], y.iloc[val_idx]\n",
    "\n",
    "#             # Clone the pipeline and train on the fold\n",
    "#             fold_pipeline = clone(full_pipeline)\n",
    "#             fold_pipeline.fit(X_train, y_train)\n",
    "#             fold_preds = fold_pipeline.predict(X_val)\n",
    "#             oof_predictions[val_idx] = fold_preds\n",
    "\n",
    "#         # Fit the final pipeline on all data for inspection (feature importance)\n",
    "#         full_pipeline.fit(X, y)\n",
    "#         final_model = full_pipeline\n",
    "\n",
    "#         # Compile results\n",
    "#         results = {\n",
    "#             'cv_mean_mae': np.mean(maes),\n",
    "#             'cv_std_mae': np.std(maes),\n",
    "#             'cv_scores': maes,\n",
    "#             'oof_predictions': oof_predictions,\n",
    "#             'model': final_model,\n",
    "#             'features': common_features\n",
    "#         }\n",
    "#         print(f\"CV Mean MAE: {results['cv_mean_mae']:.4f} (+/- {results['cv_std_mae']:.4f})\")\n",
    "#         return results"
   ]
  },
  {
   "cell_type": "markdown",
   "id": "0ea1fee8",
   "metadata": {
    "papermill": {
     "duration": 0.008343,
     "end_time": "2025-09-04T08:10:55.670466",
     "exception": false,
     "start_time": "2025-09-04T08:10:55.662123",
     "status": "completed"
    },
    "tags": []
   },
   "source": [
    "# Data Selection"
   ]
  },
  {
   "cell_type": "code",
   "execution_count": 21,
   "id": "47177a6d",
   "metadata": {
    "execution": {
     "iopub.execute_input": "2025-09-04T08:10:55.688985Z",
     "iopub.status.busy": "2025-09-04T08:10:55.688660Z",
     "iopub.status.idle": "2025-09-04T08:24:20.024036Z",
     "shell.execute_reply": "2025-09-04T08:24:20.023187Z"
    },
    "papermill": {
     "duration": 804.346827,
     "end_time": "2025-09-04T08:24:20.025901",
     "exception": false,
     "start_time": "2025-09-04T08:10:55.679074",
     "status": "completed"
    },
    "tags": []
   },
   "outputs": [],
   "source": [
    "def select_features(dataset, target_column, n_features_to_select=100, estimator=None, step=5, random_state=42):\n",
    "    \n",
    "    # Make a copy to avoid modifying original data\n",
    "    data = dataset.copy()\n",
    "    \n",
    "    # Separate features and target\n",
    "    X = data.drop(target_column, axis=1)\n",
    "    y = data[target_column]\n",
    "    \n",
    "    # Handle missing values - drop rows where target is NaN\n",
    "    non_null_mask = y.notna()\n",
    "    X = X[non_null_mask]\n",
    "    y = y[non_null_mask]\n",
    "    \n",
    "    # Create estimator if not provided\n",
    "    if estimator is None:\n",
    "        estimator = LGBMRegressor(\n",
    "            n_estimators=100,\n",
    "            random_state=random_state,\n",
    "            verbose=-1  # Silence LightGBM output\n",
    "        )\n",
    "    \n",
    "    # Initialize RFE selector\n",
    "    selector = RFE(\n",
    "        estimator=estimator,\n",
    "        n_features_to_select=n_features_to_select,\n",
    "        step=step\n",
    "    )\n",
    "    \n",
    "    # Fit the selector\n",
    "    selector.fit(X, y)\n",
    "    \n",
    "    # Get selected features\n",
    "    selected_features = X.columns[selector.support_].tolist()\n",
    "    \n",
    "    # Create new dataset with only selected features and target\n",
    "    selected_data = data[selected_features + [target_column]]\n",
    "    \n",
    "    return selected_data\n",
    "\n",
    "tg_ds=select_features(tg_ds, 'Tg')\n",
    "ffv_ds=select_features(ffv_ds, 'FFV')\n",
    "tc_ds=select_features(tc_ds, 'Tc')\n",
    "den_ds=select_features(den_ds, 'Density')\n",
    "rg_ds=select_features(rg_ds, 'Rg')"
   ]
  },
  {
   "cell_type": "markdown",
   "id": "4e9fc557",
   "metadata": {
    "papermill": {
     "duration": 0.008273,
     "end_time": "2025-09-04T08:24:20.043627",
     "exception": false,
     "start_time": "2025-09-04T08:24:20.035354",
     "status": "completed"
    },
    "tags": []
   },
   "source": [
    "# **Model Evaluation"
   ]
  },
  {
   "cell_type": "code",
   "execution_count": 22,
   "id": "0bc87d3b",
   "metadata": {
    "execution": {
     "iopub.execute_input": "2025-09-04T08:24:20.062197Z",
     "iopub.status.busy": "2025-09-04T08:24:20.061486Z",
     "iopub.status.idle": "2025-09-04T08:24:20.066977Z",
     "shell.execute_reply": "2025-09-04T08:24:20.066195Z"
    },
    "papermill": {
     "duration": 0.016206,
     "end_time": "2025-09-04T08:24:20.068335",
     "exception": false,
     "start_time": "2025-09-04T08:24:20.052129",
     "status": "completed"
    },
    "tags": []
   },
   "outputs": [],
   "source": [
    "\n",
    "models_to_compare = {\n",
    "    'XGBoost': lambda: XGBRegressor(verbosity=0),\n",
    "    'CatBoost': lambda: CatBoostRegressor(verbose=0),\n",
    "    'CatBoost2': lambda: CatBoostRegressor(iterations=1000,learning_rate=0.03,depth=6,l2_leaf_reg=3,early_stopping_rounds=50,random_seed=SEED,verbose=0),\n",
    "    'MLP': lambda: MLPRegressor(\n",
    "            hidden_layer_sizes=(1024, 512, 256),\n",
    "            activation='relu',\n",
    "            solver='adam',\n",
    "            alpha=0.0001,\n",
    "            batch_size=64,  \n",
    "            learning_rate_init=0.0005, \n",
    "            max_iter=1000, \n",
    "            early_stopping=True, \n",
    "            random_state=42\n",
    "        )\n",
    "}"
   ]
  },
  {
   "cell_type": "code",
   "execution_count": 23,
   "id": "fe7fa185",
   "metadata": {
    "execution": {
     "iopub.execute_input": "2025-09-04T08:24:20.086620Z",
     "iopub.status.busy": "2025-09-04T08:24:20.086293Z",
     "iopub.status.idle": "2025-09-04T08:24:56.935213Z",
     "shell.execute_reply": "2025-09-04T08:24:56.934414Z"
    },
    "papermill": {
     "duration": 36.868647,
     "end_time": "2025-09-04T08:24:56.945591",
     "exception": false,
     "start_time": "2025-09-04T08:24:20.076944",
     "status": "completed"
    },
    "tags": []
   },
   "outputs": [
    {
     "name": "stdout",
     "output_type": "stream",
     "text": [
      "XGBoost              : MAE = 27.73092\n",
      "CatBoost             : MAE = 26.94831\n",
      "CatBoost2            : MAE = 28.69233\n",
      "MLP                  : MAE = 22.52534\n"
     ]
    }
   ],
   "source": [
    "scaler = StandardScaler()\n",
    "tg_ds = tg_ds.dropna(subset=['Tg'])\n",
    "tg_ds_clean = tg_ds.dropna()\n",
    "for name, model_init in models_to_compare.items():\n",
    "    try:\n",
    "        if name == 'MLP':\n",
    "            score = model(tg_ds_clean, desc_test, model_init, 'Tg', submission=False)\n",
    "        else:\n",
    "            score = model(tg_ds, desc_test, model_init, 'Tg', submission=False)\n",
    "        print(f'{name:<21}: MAE = {score:.5f}')\n",
    "    except Exception as e:\n",
    "        print(f'{name:<21}: Failed with error: {e}')"
   ]
  },
  {
   "cell_type": "code",
   "execution_count": 24,
   "id": "79611eed",
   "metadata": {
    "execution": {
     "iopub.execute_input": "2025-09-04T08:24:56.964981Z",
     "iopub.status.busy": "2025-09-04T08:24:56.964320Z",
     "iopub.status.idle": "2025-09-04T08:25:55.234550Z",
     "shell.execute_reply": "2025-09-04T08:25:55.233644Z"
    },
    "papermill": {
     "duration": 58.290017,
     "end_time": "2025-09-04T08:25:55.244501",
     "exception": false,
     "start_time": "2025-09-04T08:24:56.954484",
     "status": "completed"
    },
    "tags": []
   },
   "outputs": [
    {
     "name": "stdout",
     "output_type": "stream",
     "text": [
      "XGBoost              : MAE = 0.00669\n",
      "CatBoost             : MAE = 0.00609\n",
      "CatBoost2            : MAE = 0.00658\n",
      "MLP                  : MAE = 3288.44323\n"
     ]
    }
   ],
   "source": [
    "ffv_ds = ffv_ds.dropna(subset=['FFV'])\n",
    "ffv_ds_clean = ffv_ds.dropna()\n",
    "for name, model_cls in models_to_compare.items():\n",
    "    try:\n",
    "        if name == 'MLP':\n",
    "            score = model(ffv_ds_clean, desc_test, model_cls, 'FFV', submission=False)\n",
    "        else:\n",
    "            score = model(ffv_ds, desc_test, model_cls, 'FFV', submission=False)\n",
    "        print(f'{name:<21}: MAE = {score:.5f}')\n",
    "    except Exception as e:\n",
    "        print(f'{name:<21}: Failed with error: {e}')"
   ]
  },
  {
   "cell_type": "code",
   "execution_count": 25,
   "id": "beb94aca",
   "metadata": {
    "execution": {
     "iopub.execute_input": "2025-09-04T08:25:55.264413Z",
     "iopub.status.busy": "2025-09-04T08:25:55.263783Z",
     "iopub.status.idle": "2025-09-04T08:26:40.889832Z",
     "shell.execute_reply": "2025-09-04T08:26:40.888850Z"
    },
    "papermill": {
     "duration": 45.646257,
     "end_time": "2025-09-04T08:26:40.899920",
     "exception": false,
     "start_time": "2025-09-04T08:25:55.253663",
     "status": "completed"
    },
    "tags": []
   },
   "outputs": [
    {
     "name": "stdout",
     "output_type": "stream",
     "text": [
      "XGBoost              : MAE = 0.03721\n",
      "CatBoost             : MAE = 0.03614\n",
      "CatBoost2            : MAE = 0.03505\n",
      "MLP                  : MAE = 0.39110\n"
     ]
    }
   ],
   "source": [
    "tc_ds = tc_ds.dropna(subset=['Tc'])\n",
    "tc_ds_clean = tc_ds.dropna()\n",
    "for name, model_cls in models_to_compare.items():\n",
    "    try:\n",
    "        if name == 'MLP':\n",
    "            score = model(tc_ds_clean, desc_test, model_cls, 'Tc', submission=False)\n",
    "        else:\n",
    "            score = model(tc_ds, desc_test, model_cls, 'Tc', submission=False)\n",
    "        print(f'{name:<21}: MAE = {score:.5f}')\n",
    "    except Exception as e:\n",
    "        print(f'{name:<21}: Failed with error: {e}')"
   ]
  },
  {
   "cell_type": "code",
   "execution_count": 26,
   "id": "c8a045bf",
   "metadata": {
    "execution": {
     "iopub.execute_input": "2025-09-04T08:26:40.919500Z",
     "iopub.status.busy": "2025-09-04T08:26:40.919162Z",
     "iopub.status.idle": "2025-09-04T08:27:09.194159Z",
     "shell.execute_reply": "2025-09-04T08:27:09.193143Z"
    },
    "papermill": {
     "duration": 28.286604,
     "end_time": "2025-09-04T08:27:09.195663",
     "exception": false,
     "start_time": "2025-09-04T08:26:40.909059",
     "status": "completed"
    },
    "tags": []
   },
   "outputs": [
    {
     "name": "stdout",
     "output_type": "stream",
     "text": [
      "XGBoost              : MAE = 0.08988\n",
      "CatBoost             : MAE = 0.07734\n",
      "CatBoost2            : MAE = 0.07250\n",
      "MLP                  : MAE = 75185.10010\n"
     ]
    }
   ],
   "source": [
    "den_ds = den_ds.dropna(subset=['Density'])\n",
    "den_ds_clean = den_ds.dropna()\n",
    "for name, model_cls in models_to_compare.items():\n",
    "    try:\n",
    "        if name == 'MLP':\n",
    "            score = model(den_ds_clean, desc_test, model_cls, 'Density', submission=False)\n",
    "        else:\n",
    "            score = model(den_ds, desc_test, model_cls, 'Density', submission=False)\n",
    "        print(f'{name:<21}: MAE = {score:.5f}')\n",
    "    except Exception as e:\n",
    "        print(f'{name:<21}: Failed with error: {e}')"
   ]
  },
  {
   "cell_type": "code",
   "execution_count": 27,
   "id": "c67afa57",
   "metadata": {
    "execution": {
     "iopub.execute_input": "2025-09-04T08:27:09.215989Z",
     "iopub.status.busy": "2025-09-04T08:27:09.215670Z",
     "iopub.status.idle": "2025-09-04T08:27:35.884335Z",
     "shell.execute_reply": "2025-09-04T08:27:35.883229Z"
    },
    "papermill": {
     "duration": 26.680527,
     "end_time": "2025-09-04T08:27:35.885824",
     "exception": false,
     "start_time": "2025-09-04T08:27:09.205297",
     "status": "completed"
    },
    "tags": []
   },
   "outputs": [
    {
     "name": "stdout",
     "output_type": "stream",
     "text": [
      "XGBoost              : MAE = 1.48334\n",
      "CatBoost             : MAE = 1.53631\n",
      "CatBoost2            : MAE = 1.52366\n",
      "MLP                  : MAE = 13.36433\n"
     ]
    }
   ],
   "source": [
    "rg_ds = rg_ds.dropna(subset=['Rg'])\n",
    "rg_ds_clean = rg_ds.dropna()\n",
    "for name, model_cls in models_to_compare.items():\n",
    "    try:\n",
    "        if name == 'MLP':\n",
    "            score = model(rg_ds_clean, desc_test, model_cls, 'Rg', submission=False)\n",
    "        else:\n",
    "            score = model(rg_ds, desc_test, model_cls, 'Rg', submission=False)\n",
    "        print(f'{name:<21}: MAE = {score:.5f}')\n",
    "    except Exception as e:\n",
    "        print(f'{name:<21}: Failed with error: {e}')"
   ]
  },
  {
   "cell_type": "markdown",
   "id": "13ccc9ae",
   "metadata": {
    "papermill": {
     "duration": 0.009542,
     "end_time": "2025-09-04T08:27:35.905268",
     "exception": false,
     "start_time": "2025-09-04T08:27:35.895726",
     "status": "completed"
    },
    "tags": []
   },
   "source": [
    "# Final Model For Submission"
   ]
  },
  {
   "cell_type": "code",
   "execution_count": 28,
   "id": "18352a8d",
   "metadata": {
    "execution": {
     "iopub.execute_input": "2025-09-04T08:27:35.925937Z",
     "iopub.status.busy": "2025-09-04T08:27:35.925180Z",
     "iopub.status.idle": "2025-09-04T08:28:38.993114Z",
     "shell.execute_reply": "2025-09-04T08:28:38.992390Z"
    },
    "papermill": {
     "duration": 63.080008,
     "end_time": "2025-09-04T08:28:38.994728",
     "exception": false,
     "start_time": "2025-09-04T08:27:35.914720",
     "status": "completed"
    },
    "tags": []
   },
   "outputs": [],
   "source": [
    "from sklearn.impute import SimpleImputer\n",
    "from sklearn.pipeline import Pipeline\n",
    "'''\n",
    "11297.2s\t273\t=== Best models summary ===\n",
    "11297.2s\t274\tTg: CatBoost  CV_MAE=42.369263  params={'learning_rate': 0.03, 'l2_leaf_reg': 3, 'iterations': 1000, 'depth': 6}\n",
    "11297.2s\t275\tFFV: XGBoost  CV_MAE=0.006229  params={'subsample': 0.8, 'reg_lambda': 1, 'reg_alpha': 0.0, 'n_estimators': 800, 'max_depth': 6, 'learning_rate': 0.05, 'colsample_bytree': 0.7}\n",
    "11297.2s\t276\tTc: LightGBM  CV_MAE=0.032098  params={'subsample': 0.6, 'reg_lambda': 1, 'reg_alpha': 0.001, 'num_leaves': 64, 'n_estimators': 500, 'learning_rate': 0.01, 'colsample_bytree': 0.5}\n",
    "11297.2s\t277\tDensity: GradientBoosting  CV_MAE=0.065598  params={'subsample': 0.8, 'n_estimators': 800, 'max_features': 'sqrt', 'max_depth': 3, 'learning_rate': 0.1}\n",
    "11297.2s\t278\tRg: GradientBoosting  CV_MAE=1.717341  params={'subsample': 0.8, 'n_estimators': 1000, 'max_features': 'sqrt', 'max_depth': 5, 'learning_rate': 0.01}\n",
    "'''\n",
    "desc_test_clean = desc_test.dropna(axis=1, how='any')\n",
    "desc_test_clean.shape\n",
    "models = {\n",
    "    'XGBoost': lambda: XGBRegressor(verbosity=0),\n",
    "    'CatBoost': lambda: CatBoostRegressor(verbose=0),\n",
    "    'CatBoost2': lambda: CatBoostRegressor(iterations=1000,learning_rate=0.03,depth=6,l2_leaf_reg=3,early_stopping_rounds=50,random_seed=SEED,verbose=0),\n",
    "    'MLP': lambda: MLPRegressor(\n",
    "            hidden_layer_sizes=(1024, 512, 256),\n",
    "            activation='relu',\n",
    "            solver='adam',\n",
    "            alpha=0.0001,\n",
    "            batch_size=64,  \n",
    "            learning_rate_init=0.0005, \n",
    "            max_iter=1000, \n",
    "            early_stopping=True, \n",
    "            random_state=42\n",
    "        )\n",
    "}\n",
    "\n",
    "sub = {\n",
    "    'id': ID,\n",
    "    'Tg': model(tg_ds, desc_test_clean, models['CatBoost'], 'Tg', submission=True),\n",
    "    'FFV': model(ffv_ds, desc_test, models['CatBoost'], 'FFV', submission=True),\n",
    "    'Tc': model(tc_ds, desc_test, models['CatBoost2'], 'Tc', submission=True),\n",
    "    'Density': model(den_ds, desc_test, models['CatBoost2'], 'Density', submission=True),\n",
    "    'Rg': model(rg_ds, desc_test, models['CatBoost2'], 'Rg', submission=True)\n",
    "}"
   ]
  },
  {
   "cell_type": "code",
   "execution_count": 29,
   "id": "7855e79d",
   "metadata": {
    "execution": {
     "iopub.execute_input": "2025-09-04T08:28:39.016051Z",
     "iopub.status.busy": "2025-09-04T08:28:39.015243Z",
     "iopub.status.idle": "2025-09-04T08:28:39.019725Z",
     "shell.execute_reply": "2025-09-04T08:28:39.019075Z"
    },
    "papermill": {
     "duration": 0.016343,
     "end_time": "2025-09-04T08:28:39.021079",
     "exception": false,
     "start_time": "2025-09-04T08:28:39.004736",
     "status": "completed"
    },
    "tags": []
   },
   "outputs": [],
   "source": [
    "submission=pd.DataFrame(sub)"
   ]
  },
  {
   "cell_type": "code",
   "execution_count": 30,
   "id": "eb4bbcb3",
   "metadata": {
    "execution": {
     "iopub.execute_input": "2025-09-04T08:28:39.041518Z",
     "iopub.status.busy": "2025-09-04T08:28:39.040930Z",
     "iopub.status.idle": "2025-09-04T08:28:39.046025Z",
     "shell.execute_reply": "2025-09-04T08:28:39.045321Z"
    },
    "papermill": {
     "duration": 0.016556,
     "end_time": "2025-09-04T08:28:39.047231",
     "exception": false,
     "start_time": "2025-09-04T08:28:39.030675",
     "status": "completed"
    },
    "tags": []
   },
   "outputs": [
    {
     "data": {
      "text/plain": [
       "(3, 1584)"
      ]
     },
     "execution_count": 30,
     "metadata": {},
     "output_type": "execute_result"
    }
   ],
   "source": [
    "desc_test_clean.shape"
   ]
  },
  {
   "cell_type": "code",
   "execution_count": 31,
   "id": "39b07575",
   "metadata": {
    "execution": {
     "iopub.execute_input": "2025-09-04T08:28:39.067729Z",
     "iopub.status.busy": "2025-09-04T08:28:39.067415Z",
     "iopub.status.idle": "2025-09-04T08:28:39.077737Z",
     "shell.execute_reply": "2025-09-04T08:28:39.076909Z"
    },
    "papermill": {
     "duration": 0.022067,
     "end_time": "2025-09-04T08:28:39.078973",
     "exception": false,
     "start_time": "2025-09-04T08:28:39.056906",
     "status": "completed"
    },
    "tags": []
   },
   "outputs": [
    {
     "data": {
      "text/html": [
       "<div>\n",
       "<style scoped>\n",
       "    .dataframe tbody tr th:only-of-type {\n",
       "        vertical-align: middle;\n",
       "    }\n",
       "\n",
       "    .dataframe tbody tr th {\n",
       "        vertical-align: top;\n",
       "    }\n",
       "\n",
       "    .dataframe thead th {\n",
       "        text-align: right;\n",
       "    }\n",
       "</style>\n",
       "<table border=\"1\" class=\"dataframe\">\n",
       "  <thead>\n",
       "    <tr style=\"text-align: right;\">\n",
       "      <th></th>\n",
       "      <th>id</th>\n",
       "      <th>Tg</th>\n",
       "      <th>FFV</th>\n",
       "      <th>Tc</th>\n",
       "      <th>Density</th>\n",
       "      <th>Rg</th>\n",
       "    </tr>\n",
       "  </thead>\n",
       "  <tbody>\n",
       "    <tr>\n",
       "      <th>0</th>\n",
       "      <td>1109053969</td>\n",
       "      <td>150.952781</td>\n",
       "      <td>0.371594</td>\n",
       "      <td>0.189111</td>\n",
       "      <td>1.152608</td>\n",
       "      <td>20.141012</td>\n",
       "    </tr>\n",
       "    <tr>\n",
       "      <th>1</th>\n",
       "      <td>1422188626</td>\n",
       "      <td>161.686124</td>\n",
       "      <td>0.375734</td>\n",
       "      <td>0.230243</td>\n",
       "      <td>1.114810</td>\n",
       "      <td>20.342176</td>\n",
       "    </tr>\n",
       "    <tr>\n",
       "      <th>2</th>\n",
       "      <td>2032016830</td>\n",
       "      <td>140.413705</td>\n",
       "      <td>0.354910</td>\n",
       "      <td>0.232614</td>\n",
       "      <td>1.113665</td>\n",
       "      <td>21.221058</td>\n",
       "    </tr>\n",
       "  </tbody>\n",
       "</table>\n",
       "</div>"
      ],
      "text/plain": [
       "           id          Tg       FFV        Tc   Density         Rg\n",
       "0  1109053969  150.952781  0.371594  0.189111  1.152608  20.141012\n",
       "1  1422188626  161.686124  0.375734  0.230243  1.114810  20.342176\n",
       "2  2032016830  140.413705  0.354910  0.232614  1.113665  21.221058"
      ]
     },
     "execution_count": 31,
     "metadata": {},
     "output_type": "execute_result"
    }
   ],
   "source": [
    "submission"
   ]
  },
  {
   "cell_type": "code",
   "execution_count": 32,
   "id": "1c13daa4",
   "metadata": {
    "execution": {
     "iopub.execute_input": "2025-09-04T08:28:39.100392Z",
     "iopub.status.busy": "2025-09-04T08:28:39.099534Z",
     "iopub.status.idle": "2025-09-04T08:28:39.109078Z",
     "shell.execute_reply": "2025-09-04T08:28:39.108245Z"
    },
    "papermill": {
     "duration": 0.021593,
     "end_time": "2025-09-04T08:28:39.110503",
     "exception": false,
     "start_time": "2025-09-04T08:28:39.088910",
     "status": "completed"
    },
    "tags": []
   },
   "outputs": [],
   "source": [
    "submission.to_csv('submission.csv',index=False)"
   ]
  },
  {
   "cell_type": "code",
   "execution_count": null,
   "id": "7571f861",
   "metadata": {
    "papermill": {
     "duration": 0.009526,
     "end_time": "2025-09-04T08:28:39.129945",
     "exception": false,
     "start_time": "2025-09-04T08:28:39.120419",
     "status": "completed"
    },
    "tags": []
   },
   "outputs": [],
   "source": []
  }
 ],
 "metadata": {
  "kaggle": {
   "accelerator": "none",
   "dataSources": [
    {
     "databundleVersionId": 12966160,
     "sourceId": 74608,
     "sourceType": "competition"
    },
    {
     "datasetId": 7678100,
     "sourceId": 12189904,
     "sourceType": "datasetVersion"
    },
    {
     "datasetId": 7690162,
     "sourceId": 12207625,
     "sourceType": "datasetVersion"
    },
    {
     "datasetId": 7706066,
     "sourceId": 12237259,
     "sourceType": "datasetVersion"
    },
    {
     "datasetId": 7709869,
     "sourceId": 12330396,
     "sourceType": "datasetVersion"
    },
    {
     "datasetId": 7887657,
     "sourceId": 12501403,
     "sourceType": "datasetVersion"
    },
    {
     "datasetId": 8114882,
     "sourceId": 12831234,
     "sourceType": "datasetVersion"
    }
   ],
   "dockerImageVersionId": 31040,
   "isGpuEnabled": false,
   "isInternetEnabled": false,
   "language": "python",
   "sourceType": "notebook"
  },
  "kernelspec": {
   "display_name": "Python 3",
   "language": "python",
   "name": "python3"
  },
  "language_info": {
   "codemirror_mode": {
    "name": "ipython",
    "version": 3
   },
   "file_extension": ".py",
   "mimetype": "text/x-python",
   "name": "python",
   "nbconvert_exporter": "python",
   "pygments_lexer": "ipython3",
   "version": "3.11.11"
  },
  "papermill": {
   "default_parameters": {},
   "duration": 1128.471707,
   "end_time": "2025-09-04T08:28:40.361940",
   "environment_variables": {},
   "exception": null,
   "input_path": "__notebook__.ipynb",
   "output_path": "__notebook__.ipynb",
   "parameters": {},
   "start_time": "2025-09-04T08:09:51.890233",
   "version": "2.6.0"
  }
 },
 "nbformat": 4,
 "nbformat_minor": 5
}
