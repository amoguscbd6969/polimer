{
 "cells": [
  {
   "cell_type": "markdown",
   "id": "02c4db11",
   "metadata": {
    "papermill": {
     "duration": 0.008202,
     "end_time": "2025-09-04T08:34:39.390679",
     "exception": false,
     "start_time": "2025-09-04T08:34:39.382477",
     "status": "completed"
    },
    "tags": []
   },
   "source": [
    "This notebook is based on my previous notebook [Baseline_For_Beginners](https://www.kaggle.com/code/adamlogman/baseline-for-beginners),and [Dmitry Uarov](https://www.kaggle.com/dmitryuarov) 's [NeurIPS | Baseline + External data](https://www.kaggle.com/code/dmitryuarov/neurips-baseline-external-data) notebook with modifications to the model"
   ]
  },
  {
   "cell_type": "markdown",
   "id": "18f660fb",
   "metadata": {
    "papermill": {
     "duration": 0.006984,
     "end_time": "2025-09-04T08:34:39.405215",
     "exception": false,
     "start_time": "2025-09-04T08:34:39.398231",
     "status": "completed"
    },
    "tags": []
   },
   "source": [
    "# Import Dependencies "
   ]
  },
  {
   "cell_type": "code",
   "execution_count": 1,
   "id": "9474a93a",
   "metadata": {
    "execution": {
     "iopub.execute_input": "2025-09-04T08:34:39.420723Z",
     "iopub.status.busy": "2025-09-04T08:34:39.420406Z",
     "iopub.status.idle": "2025-09-04T08:34:52.690208Z",
     "shell.execute_reply": "2025-09-04T08:34:52.688843Z"
    },
    "papermill": {
     "duration": 13.279672,
     "end_time": "2025-09-04T08:34:52.692066",
     "exception": false,
     "start_time": "2025-09-04T08:34:39.412394",
     "status": "completed"
    },
    "tags": []
   },
   "outputs": [
    {
     "name": "stdout",
     "output_type": "stream",
     "text": [
      "Processing /kaggle/input/rdkit-2025-3-3-cp311/rdkit-2025.3.3-cp311-cp311-manylinux_2_28_x86_64.whl\r\n",
      "Requirement already satisfied: numpy in /usr/local/lib/python3.11/dist-packages (from rdkit==2025.3.3) (1.26.4)\r\n",
      "Requirement already satisfied: Pillow in /usr/local/lib/python3.11/dist-packages (from rdkit==2025.3.3) (11.1.0)\r\n",
      "Requirement already satisfied: mkl_fft in /usr/local/lib/python3.11/dist-packages (from numpy->rdkit==2025.3.3) (1.3.8)\r\n",
      "Requirement already satisfied: mkl_random in /usr/local/lib/python3.11/dist-packages (from numpy->rdkit==2025.3.3) (1.2.4)\r\n",
      "Requirement already satisfied: mkl_umath in /usr/local/lib/python3.11/dist-packages (from numpy->rdkit==2025.3.3) (0.1.1)\r\n",
      "Requirement already satisfied: mkl in /usr/local/lib/python3.11/dist-packages (from numpy->rdkit==2025.3.3) (2025.1.0)\r\n",
      "Requirement already satisfied: tbb4py in /usr/local/lib/python3.11/dist-packages (from numpy->rdkit==2025.3.3) (2022.1.0)\r\n",
      "Requirement already satisfied: mkl-service in /usr/local/lib/python3.11/dist-packages (from numpy->rdkit==2025.3.3) (2.4.1)\r\n",
      "Requirement already satisfied: intel-openmp<2026,>=2024 in /usr/local/lib/python3.11/dist-packages (from mkl->numpy->rdkit==2025.3.3) (2024.2.0)\r\n",
      "Requirement already satisfied: tbb==2022.* in /usr/local/lib/python3.11/dist-packages (from mkl->numpy->rdkit==2025.3.3) (2022.1.0)\r\n",
      "Requirement already satisfied: tcmlib==1.* in /usr/local/lib/python3.11/dist-packages (from tbb==2022.*->mkl->numpy->rdkit==2025.3.3) (1.3.0)\r\n",
      "Requirement already satisfied: intel-cmplr-lib-rt in /usr/local/lib/python3.11/dist-packages (from mkl_umath->numpy->rdkit==2025.3.3) (2024.2.0)\r\n",
      "Requirement already satisfied: intel-cmplr-lib-ur==2024.2.0 in /usr/local/lib/python3.11/dist-packages (from intel-openmp<2026,>=2024->mkl->numpy->rdkit==2025.3.3) (2024.2.0)\r\n",
      "Installing collected packages: rdkit\r\n",
      "Successfully installed rdkit-2025.3.3\r\n",
      "Looking in links: file:///kaggle/input/mordred-1-2-0-py3-none-any/\r\n",
      "Processing /kaggle/input/mordred-1-2-0-py3-none-any/mordred-1.2.0-py3-none-any.whl\r\n",
      "Requirement already satisfied: six==1.* in /usr/local/lib/python3.11/dist-packages (from mordred) (1.17.0)\r\n",
      "Requirement already satisfied: numpy==1.* in /usr/local/lib/python3.11/dist-packages (from mordred) (1.26.4)\r\n",
      "Processing /kaggle/input/mordred-1-2-0-py3-none-any/networkx-2.8.8-py3-none-any.whl (from mordred)\r\n",
      "Requirement already satisfied: mkl_fft in /usr/local/lib/python3.11/dist-packages (from numpy==1.*->mordred) (1.3.8)\r\n",
      "Requirement already satisfied: mkl_random in /usr/local/lib/python3.11/dist-packages (from numpy==1.*->mordred) (1.2.4)\r\n",
      "Requirement already satisfied: mkl_umath in /usr/local/lib/python3.11/dist-packages (from numpy==1.*->mordred) (0.1.1)\r\n",
      "Requirement already satisfied: mkl in /usr/local/lib/python3.11/dist-packages (from numpy==1.*->mordred) (2025.1.0)\r\n",
      "Requirement already satisfied: tbb4py in /usr/local/lib/python3.11/dist-packages (from numpy==1.*->mordred) (2022.1.0)\r\n",
      "Requirement already satisfied: mkl-service in /usr/local/lib/python3.11/dist-packages (from numpy==1.*->mordred) (2.4.1)\r\n",
      "Requirement already satisfied: intel-openmp<2026,>=2024 in /usr/local/lib/python3.11/dist-packages (from mkl->numpy==1.*->mordred) (2024.2.0)\r\n",
      "Requirement already satisfied: tbb==2022.* in /usr/local/lib/python3.11/dist-packages (from mkl->numpy==1.*->mordred) (2022.1.0)\r\n",
      "Requirement already satisfied: tcmlib==1.* in /usr/local/lib/python3.11/dist-packages (from tbb==2022.*->mkl->numpy==1.*->mordred) (1.3.0)\r\n",
      "Requirement already satisfied: intel-cmplr-lib-rt in /usr/local/lib/python3.11/dist-packages (from mkl_umath->numpy==1.*->mordred) (2024.2.0)\r\n",
      "Requirement already satisfied: intel-cmplr-lib-ur==2024.2.0 in /usr/local/lib/python3.11/dist-packages (from intel-openmp<2026,>=2024->mkl->numpy==1.*->mordred) (2024.2.0)\r\n",
      "Installing collected packages: networkx, mordred\r\n",
      "  Attempting uninstall: networkx\r\n",
      "    Found existing installation: networkx 3.4.2\r\n",
      "    Uninstalling networkx-3.4.2:\r\n",
      "      Successfully uninstalled networkx-3.4.2\r\n",
      "\u001b[31mERROR: pip's dependency resolver does not currently take into account all the packages that are installed. This behaviour is the source of the following dependency conflicts.\r\n",
      "scikit-image 0.25.2 requires networkx>=3.0, but you have networkx 2.8.8 which is incompatible.\r\n",
      "nx-cugraph-cu12 25.2.0 requires networkx>=3.2, but you have networkx 2.8.8 which is incompatible.\r\n",
      "torch 2.6.0+cu124 requires nvidia-cublas-cu12==12.4.5.8; platform_system == \"Linux\" and platform_machine == \"x86_64\", but you have nvidia-cublas-cu12 12.9.0.13 which is incompatible.\r\n",
      "torch 2.6.0+cu124 requires nvidia-cudnn-cu12==9.1.0.70; platform_system == \"Linux\" and platform_machine == \"x86_64\", but you have nvidia-cudnn-cu12 9.3.0.75 which is incompatible.\r\n",
      "torch 2.6.0+cu124 requires nvidia-cufft-cu12==11.2.1.3; platform_system == \"Linux\" and platform_machine == \"x86_64\", but you have nvidia-cufft-cu12 11.4.0.6 which is incompatible.\r\n",
      "torch 2.6.0+cu124 requires nvidia-curand-cu12==10.3.5.147; platform_system == \"Linux\" and platform_machine == \"x86_64\", but you have nvidia-curand-cu12 10.3.10.19 which is incompatible.\r\n",
      "torch 2.6.0+cu124 requires nvidia-cusolver-cu12==11.6.1.9; platform_system == \"Linux\" and platform_machine == \"x86_64\", but you have nvidia-cusolver-cu12 11.7.4.40 which is incompatible.\r\n",
      "torch 2.6.0+cu124 requires nvidia-cusparse-cu12==12.3.1.170; platform_system == \"Linux\" and platform_machine == \"x86_64\", but you have nvidia-cusparse-cu12 12.5.9.5 which is incompatible.\r\n",
      "torch 2.6.0+cu124 requires nvidia-nvjitlink-cu12==12.4.127; platform_system == \"Linux\" and platform_machine == \"x86_64\", but you have nvidia-nvjitlink-cu12 12.9.41 which is incompatible.\u001b[0m\u001b[31m\r\n",
      "\u001b[0mSuccessfully installed mordred-1.2.0 networkx-2.8.8\r\n"
     ]
    }
   ],
   "source": [
    "!pip install /kaggle/input/rdkit-2025-3-3-cp311/rdkit-2025.3.3-cp311-cp311-manylinux_2_28_x86_64.whl\n",
    "!pip install mordred --no-index --find-links=file:///kaggle/input/mordred-1-2-0-py3-none-any/"
   ]
  },
  {
   "cell_type": "code",
   "execution_count": 2,
   "id": "dc0c1cc1",
   "metadata": {
    "execution": {
     "iopub.execute_input": "2025-09-04T08:34:52.710058Z",
     "iopub.status.busy": "2025-09-04T08:34:52.709738Z",
     "iopub.status.idle": "2025-09-04T08:35:03.733052Z",
     "shell.execute_reply": "2025-09-04T08:35:03.731838Z"
    },
    "papermill": {
     "duration": 11.034655,
     "end_time": "2025-09-04T08:35:03.735114",
     "exception": false,
     "start_time": "2025-09-04T08:34:52.700459",
     "status": "completed"
    },
    "tags": []
   },
   "outputs": [],
   "source": [
    " # Importing Required Libraries\\nLet's begin by importing the essential Python libraries needed for data processing, visualization, and modeling.\n",
    "\n",
    "import pandas as pd\n",
    "import numpy as np\n",
    "\n",
    "\n",
    "from sklearn.ensemble import HistGradientBoostingRegressor,ExtraTreesRegressor\n",
    "from catboost import CatBoostRegressor\n",
    "from sklearn.model_selection import train_test_split\n",
    "from sklearn.metrics import mean_absolute_error\n",
    "from mordred import Calculator, descriptors\n",
    "from sklearn.feature_selection import RFE\n",
    "import networkx as nx\n",
    "from rdkit.Chem import AllChem\n",
    "from rdkit.Chem import Descriptors\n",
    "from rdkit.Chem import rdmolops\n",
    "from rdkit import Chem\n",
    "\n",
    "from sklearn.neural_network import MLPRegressor\n",
    "from sklearn.ensemble import (\n",
    "    RandomForestRegressor,\n",
    "    ExtraTreesRegressor,\n",
    "    GradientBoostingRegressor,\n",
    "    HistGradientBoostingRegressor\n",
    ")\n",
    "from xgboost import XGBRegressor\n",
    "from lightgbm import LGBMRegressor\n",
    "from catboost import CatBoostRegressor\n",
    "from sklearn.preprocessing import StandardScaler\n",
    "\n",
    "import warnings\n",
    "warnings.filterwarnings(\"ignore\")\n",
    "pd.set_option('display.max_columns', None)"
   ]
  },
  {
   "cell_type": "code",
   "execution_count": 3,
   "id": "9099f451",
   "metadata": {
    "execution": {
     "iopub.execute_input": "2025-09-04T08:35:03.755499Z",
     "iopub.status.busy": "2025-09-04T08:35:03.754743Z",
     "iopub.status.idle": "2025-09-04T08:35:03.759511Z",
     "shell.execute_reply": "2025-09-04T08:35:03.758608Z"
    },
    "papermill": {
     "duration": 0.016527,
     "end_time": "2025-09-04T08:35:03.760910",
     "exception": false,
     "start_time": "2025-09-04T08:35:03.744383",
     "status": "completed"
    },
    "tags": []
   },
   "outputs": [],
   "source": [
    "# class CFG:\n",
    "#     TARGETS = ['Tg', 'FFV', 'Tc', 'Density', 'Rg']\n",
    "#     SEED = 42\n",
    "#     FOLDS = 10"
   ]
  },
  {
   "cell_type": "code",
   "execution_count": 4,
   "id": "578d2740",
   "metadata": {
    "execution": {
     "iopub.execute_input": "2025-09-04T08:35:03.777968Z",
     "iopub.status.busy": "2025-09-04T08:35:03.777606Z",
     "iopub.status.idle": "2025-09-04T08:35:03.783559Z",
     "shell.execute_reply": "2025-09-04T08:35:03.782453Z"
    },
    "papermill": {
     "duration": 0.016339,
     "end_time": "2025-09-04T08:35:03.785213",
     "exception": false,
     "start_time": "2025-09-04T08:35:03.768874",
     "status": "completed"
    },
    "tags": []
   },
   "outputs": [],
   "source": [
    "# useless_cols = [   \n",
    "    \n",
    "#     'MaxPartialCharge', \n",
    "#     # Nan data\n",
    "#     'BCUT2D_MWHI',\n",
    "#     'BCUT2D_MWLOW',\n",
    "#     'BCUT2D_CHGHI',\n",
    "#     'BCUT2D_CHGLO',\n",
    "#     'BCUT2D_LOGPHI',\n",
    "#     'BCUT2D_LOGPLOW',\n",
    "#     'BCUT2D_MRHI',\n",
    "#     'BCUT2D_MRLOW',\n",
    "\n",
    "#     # Constant data\n",
    "#     'NumRadicalElectrons',\n",
    "#     'SMR_VSA8',\n",
    "#     'SlogP_VSA9',\n",
    "#     'fr_barbitur',\n",
    "#     'fr_benzodiazepine',\n",
    "#     'fr_dihydropyridine',\n",
    "#     'fr_epoxide',\n",
    "#     'fr_isothiocyan',\n",
    "#     'fr_lactam',\n",
    "#     'fr_nitroso',\n",
    "#     'fr_prisulfonamd',\n",
    "#     'fr_thiocyan',\n",
    "\n",
    "#     # High correlated data >0.95\n",
    "#     'MaxEStateIndex',\n",
    "#     'HeavyAtomMolWt',\n",
    "#     'ExactMolWt',\n",
    "#     'NumValenceElectrons',\n",
    "#     'Chi0',\n",
    "#     'Chi0n',\n",
    "#     'Chi0v',\n",
    "#     'Chi1',\n",
    "#     'Chi1n',\n",
    "#     'Chi1v',\n",
    "#     'Chi2n',\n",
    "#     'Kappa1',\n",
    "#     'LabuteASA',\n",
    "#     'HeavyAtomCount',\n",
    "#     'MolMR',\n",
    "#     'Chi3n',\n",
    "#     'BertzCT',\n",
    "#     'Chi2v',\n",
    "#     'Chi4n',\n",
    "#     'HallKierAlpha',\n",
    "#     'Chi3v',\n",
    "#     'Chi4v',\n",
    "#     'MinAbsPartialCharge',\n",
    "#     'MinPartialCharge',\n",
    "#     'MaxAbsPartialCharge',\n",
    "#     'FpDensityMorgan2',\n",
    "#     'FpDensityMorgan3',\n",
    "#     'Phi',\n",
    "#     'Kappa3',\n",
    "#     'fr_nitrile',\n",
    "#     'SlogP_VSA6',\n",
    "#     'NumAromaticCarbocycles',\n",
    "#     'NumAromaticRings',\n",
    "#     'fr_benzene',\n",
    "#     'VSA_EState6',\n",
    "#     'NOCount',\n",
    "#     'fr_C_O',\n",
    "#     'fr_C_O_noCOO',\n",
    "#     'NumHDonors',\n",
    "#     'fr_amide',\n",
    "#     'fr_Nhpyrrole',\n",
    "#     'fr_phenol',\n",
    "#     'fr_phenol_noOrthoHbond',\n",
    "#     'fr_COO2',\n",
    "#     'fr_halogen',\n",
    "#     'fr_diazo',\n",
    "#     'fr_nitro_arom',\n",
    "#     'fr_phos_ester'\n",
    "# ]\n",
    "\n",
    "SEED = 42"
   ]
  },
  {
   "cell_type": "markdown",
   "id": "0b3cebb1",
   "metadata": {
    "papermill": {
     "duration": 0.007354,
     "end_time": "2025-09-04T08:35:03.800521",
     "exception": false,
     "start_time": "2025-09-04T08:35:03.793167",
     "status": "completed"
    },
    "tags": []
   },
   "source": [
    "# Read Files"
   ]
  },
  {
   "cell_type": "markdown",
   "id": "b53f7fd6",
   "metadata": {
    "papermill": {
     "duration": 0.007355,
     "end_time": "2025-09-04T08:35:03.815597",
     "exception": false,
     "start_time": "2025-09-04T08:35:03.808242",
     "status": "completed"
    },
    "tags": []
   },
   "source": [
    "### Main Files"
   ]
  },
  {
   "cell_type": "code",
   "execution_count": 5,
   "id": "688d2c5f",
   "metadata": {
    "execution": {
     "iopub.execute_input": "2025-09-04T08:35:03.832025Z",
     "iopub.status.busy": "2025-09-04T08:35:03.831682Z",
     "iopub.status.idle": "2025-09-04T08:35:03.884303Z",
     "shell.execute_reply": "2025-09-04T08:35:03.883293Z"
    },
    "papermill": {
     "duration": 0.062855,
     "end_time": "2025-09-04T08:35:03.886044",
     "exception": false,
     "start_time": "2025-09-04T08:35:03.823189",
     "status": "completed"
    },
    "tags": []
   },
   "outputs": [],
   "source": [
    " #We will load both the training and test datasets using pandas, and store test IDs \n",
    "train=pd.read_csv('/kaggle/input/neurips-open-polymer-prediction-2025/train.csv')\n",
    "test=pd.read_csv('/kaggle/input/neurips-open-polymer-prediction-2025/test.csv')\n",
    "ss=pd.read_csv('/kaggle/input/neurips-open-polymer-prediction-2025/sample_submission.csv')\n",
    "ID=test['id']"
   ]
  },
  {
   "cell_type": "code",
   "execution_count": 6,
   "id": "98bd2687",
   "metadata": {
    "execution": {
     "iopub.execute_input": "2025-09-04T08:35:03.902607Z",
     "iopub.status.busy": "2025-09-04T08:35:03.902261Z",
     "iopub.status.idle": "2025-09-04T08:35:04.806236Z",
     "shell.execute_reply": "2025-09-04T08:35:04.805035Z"
    },
    "papermill": {
     "duration": 0.914199,
     "end_time": "2025-09-04T08:35:04.808069",
     "exception": false,
     "start_time": "2025-09-04T08:35:03.893870",
     "status": "completed"
    },
    "tags": []
   },
   "outputs": [
    {
     "name": "stderr",
     "output_type": "stream",
     "text": [
      "100%|██████████| 3/3 [00:00<00:00,  4.55it/s]\n"
     ]
    },
    {
     "data": {
      "text/plain": [
       "(3, 1613)"
      ]
     },
     "execution_count": 6,
     "metadata": {},
     "output_type": "execute_result"
    }
   ],
   "source": [
    "mols_test = [Chem.MolFromSmiles(s) for s in test.SMILES]\n",
    "\n",
    "# Initialize the Mordred Calculator\n",
    "calc = Calculator(descriptors, ignore_3D=True) # ignore_3D=True for 2D descriptors\n",
    "\n",
    "desc_test = calc.pandas(mols_test)\n",
    "desc_test.shape"
   ]
  },
  {
   "cell_type": "code",
   "execution_count": 7,
   "id": "630dfd49",
   "metadata": {
    "execution": {
     "iopub.execute_input": "2025-09-04T08:35:04.826130Z",
     "iopub.status.busy": "2025-09-04T08:35:04.825793Z",
     "iopub.status.idle": "2025-09-04T08:35:31.978552Z",
     "shell.execute_reply": "2025-09-04T08:35:31.977669Z"
    },
    "papermill": {
     "duration": 27.163974,
     "end_time": "2025-09-04T08:35:31.980379",
     "exception": false,
     "start_time": "2025-09-04T08:35:04.816405",
     "status": "completed"
    },
    "tags": []
   },
   "outputs": [],
   "source": [
    "tc_smiles =pd.read_csv('/kaggle/input/tc-smiles/Tc_SMILES.csv',      low_memory=False)\n",
    "tg_smiles =pd.read_csv('/kaggle/input/smiles-extra-data/JCIM_sup_bigsmiles.csv',      low_memory=False)\n",
    "ktg_smiles =pd.read_excel('/kaggle/input/smiles-extra-data/data_tg3.xlsx')\n",
    "de_smiles =pd.read_excel('/kaggle/input/smiles-extra-data/data_dnst1.xlsx')\n",
    "ds1_smiles=pd.read_csv('/kaggle/input/neurips-open-polymer-prediction-2025/train_supplement/dataset1.csv',      low_memory=False)\n",
    "ds2_smiles=pd.read_csv('/kaggle/input/neurips-open-polymer-prediction-2025/train_supplement/dataset2.csv',      low_memory=False)\n",
    "ds3_smiles=pd.read_csv('/kaggle/input/neurips-open-polymer-prediction-2025/train_supplement/dataset3.csv',      low_memory=False)\n",
    "ds4_smiles=pd.read_csv('/kaggle/input/neurips-open-polymer-prediction-2025/train_supplement/dataset4.csv',      low_memory=False)\n",
    "\n",
    "tg_ds      = pd.read_csv('/kaggle/input/modred-dataset/desc_tg.csv',      low_memory=False)\n",
    "tc_ds      = pd.read_csv('/kaggle/input/modred-dataset/desc_tc.csv',      low_memory=False)\n",
    "rg_ds      = pd.read_csv('/kaggle/input/modred-dataset/desc_rg.csv',      low_memory=False)\n",
    "ffv_ds     = pd.read_csv('/kaggle/input/modred-dataset/desc_ffv.csv',     low_memory=False)\n",
    "den_ds     = pd.read_csv('/kaggle/input/modred-dataset/desc_de.csv',      low_memory=False)"
   ]
  },
  {
   "cell_type": "markdown",
   "id": "8d6011b8",
   "metadata": {
    "papermill": {
     "duration": 0.007624,
     "end_time": "2025-09-04T08:35:31.996641",
     "exception": false,
     "start_time": "2025-09-04T08:35:31.989017",
     "status": "completed"
    },
    "tags": []
   },
   "source": [
    "### Extra Files"
   ]
  },
  {
   "cell_type": "markdown",
   "id": "1bf0279d",
   "metadata": {
    "papermill": {
     "duration": 0.00757,
     "end_time": "2025-09-04T08:35:32.012008",
     "exception": false,
     "start_time": "2025-09-04T08:35:32.004438",
     "status": "completed"
    },
    "tags": []
   },
   "source": [
    "# Preprocessing "
   ]
  },
  {
   "cell_type": "code",
   "execution_count": 8,
   "id": "c91fe491",
   "metadata": {
    "execution": {
     "iopub.execute_input": "2025-09-04T08:35:32.029071Z",
     "iopub.status.busy": "2025-09-04T08:35:32.028741Z",
     "iopub.status.idle": "2025-09-04T08:35:35.369492Z",
     "shell.execute_reply": "2025-09-04T08:35:35.368712Z"
    },
    "papermill": {
     "duration": 3.351378,
     "end_time": "2025-09-04T08:35:35.371160",
     "exception": false,
     "start_time": "2025-09-04T08:35:32.019782",
     "status": "completed"
    },
    "tags": []
   },
   "outputs": [],
   "source": [
    "for i in (tg_ds,tc_ds,rg_ds,ffv_ds,den_ds):\n",
    "     i.drop(columns=[col for col in i.columns if i[col].nunique() == 1],axis=1,inplace=True)\n",
    "\n",
    "tg_ds = tg_ds.select_dtypes(exclude=['object', 'category'])\n",
    "rg_ds = rg_ds.select_dtypes(exclude=['object', 'category'])\n",
    "ffv_ds = ffv_ds.select_dtypes(exclude=['object', 'category'])\n",
    "tc_ds = tc_ds.select_dtypes(exclude=['object', 'category'])\n",
    "den_ds = den_ds.select_dtypes(exclude=['object', 'category'])"
   ]
  },
  {
   "cell_type": "code",
   "execution_count": 9,
   "id": "2109d4a9",
   "metadata": {
    "execution": {
     "iopub.execute_input": "2025-09-04T08:35:35.388557Z",
     "iopub.status.busy": "2025-09-04T08:35:35.388224Z",
     "iopub.status.idle": "2025-09-04T08:35:39.551931Z",
     "shell.execute_reply": "2025-09-04T08:35:39.551014Z"
    },
    "papermill": {
     "duration": 4.174329,
     "end_time": "2025-09-04T08:35:39.553682",
     "exception": false,
     "start_time": "2025-09-04T08:35:35.379353",
     "status": "completed"
    },
    "tags": []
   },
   "outputs": [],
   "source": [
    "def make_smile_canonical(smile): # To avoid duplicates, for example: canonical '*C=C(*)C' == '*C(=C*)C'\n",
    "    try:\n",
    "        mol = Chem.MolFromSmiles(smile)\n",
    "        canon_smile = Chem.MolToSmiles(mol, canonical=True)\n",
    "        return canon_smile\n",
    "    except:\n",
    "        return np.nan\n",
    "\n",
    "train['SMILES'] = train['SMILES'].apply(lambda s: make_smile_canonical(s))\n",
    "test['SMILES'] = test['SMILES'].apply(lambda s: make_smile_canonical(s))"
   ]
  },
  {
   "cell_type": "code",
   "execution_count": 10,
   "id": "2005cf96",
   "metadata": {
    "execution": {
     "iopub.execute_input": "2025-09-04T08:35:39.571759Z",
     "iopub.status.busy": "2025-09-04T08:35:39.571477Z",
     "iopub.status.idle": "2025-09-04T08:35:39.578553Z",
     "shell.execute_reply": "2025-09-04T08:35:39.577743Z"
    },
    "papermill": {
     "duration": 0.017596,
     "end_time": "2025-09-04T08:35:39.579955",
     "exception": false,
     "start_time": "2025-09-04T08:35:39.562359",
     "status": "completed"
    },
    "tags": []
   },
   "outputs": [],
   "source": [
    "ktg_smiles.rename(columns={'Tg [K]': 'Tg'}, inplace=True)\n",
    "tg_smiles.rename(columns={'Tg (C)': 'Tg'}, inplace=True)\n",
    "tc_smiles.rename(columns={'TC_mean': 'Tc'}, inplace=True)\n",
    "de_smiles.rename(columns={'density(g/cm3)': 'Density'}, inplace=True)\n",
    "ds1_smiles.rename(columns={'TC_mean': 'Tc'}, inplace=True)"
   ]
  },
  {
   "cell_type": "code",
   "execution_count": 11,
   "id": "331889e4",
   "metadata": {
    "execution": {
     "iopub.execute_input": "2025-09-04T08:35:39.597050Z",
     "iopub.status.busy": "2025-09-04T08:35:39.596746Z",
     "iopub.status.idle": "2025-09-04T08:35:39.735305Z",
     "shell.execute_reply": "2025-09-04T08:35:39.734308Z"
    },
    "papermill": {
     "duration": 0.149022,
     "end_time": "2025-09-04T08:35:39.736950",
     "exception": false,
     "start_time": "2025-09-04T08:35:39.587928",
     "status": "completed"
    },
    "tags": []
   },
   "outputs": [
    {
     "name": "stderr",
     "output_type": "stream",
     "text": [
      "[08:35:39] SMILES Parse Error: syntax error while parsing: *O[Si](*)([R])[R]\n",
      "[08:35:39] SMILES Parse Error: check for mistakes around position 12:\n",
      "[08:35:39] *O[Si](*)([R])[R]\n",
      "[08:35:39] ~~~~~~~~~~~^\n",
      "[08:35:39] SMILES Parse Error: Failed parsing SMILES '*O[Si](*)([R])[R]' for input: '*O[Si](*)([R])[R]'\n",
      "[08:35:39] SMILES Parse Error: syntax error while parsing: *NC(=O)c4ccc3c(=O)n(c2ccc([R]c1ccc(*)cc1)cc2)c(=O)c3c4\n",
      "[08:35:39] SMILES Parse Error: check for mistakes around position 28:\n",
      "[08:35:39] c4ccc3c(=O)n(c2ccc([R]c1ccc(*)cc1)cc2)c(=\n",
      "[08:35:39] ~~~~~~~~~~~~~~~~~~~~^\n",
      "[08:35:39] SMILES Parse Error: Failed parsing SMILES '*NC(=O)c4ccc3c(=O)n(c2ccc([R]c1ccc(*)cc1)cc2)c(=O)c3c4' for input: '*NC(=O)c4ccc3c(=O)n(c2ccc([R]c1ccc(*)cc1)cc2)c(=O)c3c4'\n",
      "[08:35:39] SMILES Parse Error: syntax error while parsing: O=C=N[R1]N=C=O.O[R2]O.O[R3]O\n",
      "[08:35:39] SMILES Parse Error: check for mistakes around position 7:\n",
      "[08:35:39] O=C=N[R1]N=C=O.O[R2]O.O[R3]O\n",
      "[08:35:39] ~~~~~~^\n",
      "[08:35:39] SMILES Parse Error: Failed parsing SMILES 'O=C=N[R1]N=C=O.O[R2]O.O[R3]O' for input: 'O=C=N[R1]N=C=O.O[R2]O.O[R3]O'\n",
      "[08:35:39] SMILES Parse Error: syntax error while parsing: *CN([R'])Cc2cc([R]c1cc(*)c(O)c(CN([R'])C*)c1)cc(*)c2O\n",
      "[08:35:39] SMILES Parse Error: check for mistakes around position 6:\n",
      "[08:35:39] *CN([R'])Cc2cc([R]c1cc(*)c(O)c(CN([R'])C*\n",
      "[08:35:39] ~~~~~^\n",
      "[08:35:39] SMILES Parse Error: Failed parsing SMILES '*CN([R'])Cc2cc([R]c1cc(*)c(O)c(CN([R'])C*)c1)cc(*)c2O' for input: '*CN([R'])Cc2cc([R]c1cc(*)c(O)c(CN([R'])C*)c1)cc(*)c2O'\n",
      "[08:35:39] SMILES Parse Error: syntax error while parsing: *C(F)(F)CC(F)([R])C(*)(F)F\n",
      "[08:35:39] SMILES Parse Error: check for mistakes around position 16:\n",
      "[08:35:39] *C(F)(F)CC(F)([R])C(*)(F)F\n",
      "[08:35:39] ~~~~~~~~~~~~~~~^\n",
      "[08:35:39] SMILES Parse Error: Failed parsing SMILES '*C(F)(F)CC(F)([R])C(*)(F)F' for input: '*C(F)(F)CC(F)([R])C(*)(F)F'\n",
      "[08:35:39] SMILES Parse Error: syntax error while parsing: *OC2OC(CO[R])C(OC1OC(CO[R])C(*)C(O[R])C1O[R])C(O[R])C2O[R]\n",
      "[08:35:39] SMILES Parse Error: check for mistakes around position 11:\n",
      "[08:35:39] *OC2OC(CO[R])C(OC1OC(CO[R])C(*)C(O[R])C1O\n",
      "[08:35:39] ~~~~~~~~~~^\n",
      "[08:35:39] SMILES Parse Error: Failed parsing SMILES '*OC2OC(CO[R])C(OC1OC(CO[R])C(*)C(O[R])C1O[R])C(O[R])C2O[R]' for input: '*OC2OC(CO[R])C(OC1OC(CO[R])C(*)C(O[R])C1O[R])C(O[R])C2O[R]'\n"
     ]
    }
   ],
   "source": [
    "de_smiles['SMILES'] = de_smiles['SMILES'].apply(lambda s: make_smile_canonical(s))\n",
    "de_smiles = de_smiles[(de_smiles['SMILES'].notnull())&(de_smiles['Density'].notnull())&(de_smiles['Density'] != 'nylon')]\n",
    "de_smiles['Density'] = de_smiles['Density'].astype('float64')\n",
    "de_smiles['Density'] -= 0.118\n",
    "\n",
    "ktg_smiles['Tg'] = ktg_smiles['Tg'] - 273.15"
   ]
  },
  {
   "cell_type": "code",
   "execution_count": 12,
   "id": "60224573",
   "metadata": {
    "execution": {
     "iopub.execute_input": "2025-09-04T08:35:39.754492Z",
     "iopub.status.busy": "2025-09-04T08:35:39.754107Z",
     "iopub.status.idle": "2025-09-04T08:35:39.760370Z",
     "shell.execute_reply": "2025-09-04T08:35:39.759569Z"
    },
    "papermill": {
     "duration": 0.016638,
     "end_time": "2025-09-04T08:35:39.761813",
     "exception": false,
     "start_time": "2025-09-04T08:35:39.745175",
     "status": "completed"
    },
    "tags": []
   },
   "outputs": [],
   "source": [
    "def preprocessing(df):\n",
    "    desc_names = [desc[0] for desc in Descriptors.descList if desc[0] not in useless_cols]\n",
    "    descriptors = [compute_all_descriptors(smi) for smi in df['SMILES'].to_list()]\n",
    "\n",
    "    graph_feats = {'graph_diameter': [], 'avg_shortest_path': [], 'num_cycles': []}\n",
    "    for smile in df['SMILES']:\n",
    "         compute_graph_features(smile, graph_feats)\n",
    "        \n",
    "    result = pd.concat(\n",
    "        [\n",
    "            pd.DataFrame(descriptors, columns=desc_names),\n",
    "            pd.DataFrame(graph_feats)\n",
    "        ],\n",
    "        axis=1\n",
    "    )\n",
    "\n",
    "    result = result.replace([-np.inf, np.inf], np.nan)\n",
    "    return result"
   ]
  },
  {
   "cell_type": "markdown",
   "id": "2bff291a",
   "metadata": {
    "papermill": {
     "duration": 0.007796,
     "end_time": "2025-09-04T08:35:39.777976",
     "exception": false,
     "start_time": "2025-09-04T08:35:39.770180",
     "status": "completed"
    },
    "tags": []
   },
   "source": [
    "# Feature Extraction "
   ]
  },
  {
   "cell_type": "code",
   "execution_count": 13,
   "id": "626b9eeb",
   "metadata": {
    "execution": {
     "iopub.execute_input": "2025-09-04T08:35:39.867590Z",
     "iopub.status.busy": "2025-09-04T08:35:39.867263Z",
     "iopub.status.idle": "2025-09-04T08:35:41.782086Z",
     "shell.execute_reply": "2025-09-04T08:35:41.781072Z"
    },
    "papermill": {
     "duration": 1.925639,
     "end_time": "2025-09-04T08:35:41.783819",
     "exception": false,
     "start_time": "2025-09-04T08:35:39.858180",
     "status": "completed"
    },
    "tags": []
   },
   "outputs": [
    {
     "name": "stdout",
     "output_type": "stream",
     "text": [
      "\n",
      "For target \"Tc\" added 129 new samples!\n",
      "New unique SMILES: 129\n",
      "\n",
      "For target \"Tg\" added 151 new samples!\n",
      "New unique SMILES: 136\n",
      "\n",
      "For target \"Tg\" added 499 new samples!\n",
      "New unique SMILES: 499\n",
      "\n",
      "For target \"Density\" added 634 new samples!\n",
      "New unique SMILES: 524\n",
      "\n",
      "For target \"Tc\" added 0 new samples!\n",
      "New unique SMILES: 0\n",
      "\n",
      "For target \"Tg\" added 0 new samples!\n",
      "New unique SMILES: 0\n",
      "\n",
      "For target \"FFV\" added 862 new samples!\n",
      "New unique SMILES: 819\n"
     ]
    }
   ],
   "source": [
    "# SMILESを正規化（canonical化）\n",
    "# 重複する SMILES を集約して平均 target 値に\n",
    "# df_train に存在するが欠損している target に、df_extra から値を補完\n",
    "\n",
    "def add_extra_data(df_train, df_extra, target):\n",
    "    n_samples_before = len(df_train[df_train[target].notnull()])\n",
    "    \n",
    "    df_extra['SMILES'] = df_extra['SMILES'].apply(lambda s: make_smile_canonical(s))\n",
    "    df_extra = df_extra.groupby('SMILES', as_index=False)[target].mean()\n",
    "    cross_smiles = set(df_extra['SMILES']) & set(df_train['SMILES'])\n",
    "    unique_smiles_extra = set(df_extra['SMILES']) - set(df_train['SMILES'])\n",
    "\n",
    "    # Make priority target value from competition's df\n",
    "    for smile in df_train[df_train[target].notnull()]['SMILES'].tolist():\n",
    "        if smile in cross_smiles:\n",
    "            cross_smiles.remove(smile)\n",
    "\n",
    "    # Imput missing values for competition's SMILES\n",
    "    for smile in cross_smiles:\n",
    "        df_train.loc[df_train['SMILES']==smile, target] = df_extra[df_extra['SMILES']==smile][target].values[0]\n",
    "    \n",
    "    df_train = pd.concat([df_train, df_extra[df_extra['SMILES'].isin(unique_smiles_extra)]], axis=0).reset_index(drop=True)\n",
    "\n",
    "    n_samples_after = len(df_train[df_train[target].notnull()])\n",
    "    print(f'\\nFor target \"{target}\" added {n_samples_after-n_samples_before} new samples!')\n",
    "    print(f'New unique SMILES: {len(unique_smiles_extra)}')\n",
    "    return df_train\n",
    "\n",
    "train = add_extra_data(train, tc_smiles, 'Tc')\n",
    "train = add_extra_data(train, tg_smiles, 'Tg')\n",
    "train = add_extra_data(train, ktg_smiles, 'Tg')\n",
    "train = add_extra_data(train, de_smiles, 'Density')\n",
    "\n",
    "train = add_extra_data(train, ds1_smiles, 'Tc')\n",
    "#train = add_extra_data(train, ds2_smiles, 'Density')\n",
    "train = add_extra_data(train, ds3_smiles, 'Tg')\n",
    "train = add_extra_data(train, ds4_smiles, 'FFV')"
   ]
  },
  {
   "cell_type": "code",
   "execution_count": 14,
   "id": "f2b64ff5",
   "metadata": {
    "execution": {
     "iopub.execute_input": "2025-09-04T08:35:41.801780Z",
     "iopub.status.busy": "2025-09-04T08:35:41.801457Z",
     "iopub.status.idle": "2025-09-04T08:35:41.807314Z",
     "shell.execute_reply": "2025-09-04T08:35:41.806491Z"
    },
    "papermill": {
     "duration": 0.016263,
     "end_time": "2025-09-04T08:35:41.808592",
     "exception": false,
     "start_time": "2025-09-04T08:35:41.792329",
     "status": "completed"
    },
    "tags": []
   },
   "outputs": [
    {
     "data": {
      "text/plain": [
       "(9117, 594)"
      ]
     },
     "execution_count": 14,
     "metadata": {},
     "output_type": "execute_result"
    }
   ],
   "source": [
    "tg_ds.shape"
   ]
  },
  {
   "cell_type": "code",
   "execution_count": 15,
   "id": "64caea59",
   "metadata": {
    "execution": {
     "iopub.execute_input": "2025-09-04T08:35:41.827338Z",
     "iopub.status.busy": "2025-09-04T08:35:41.826763Z",
     "iopub.status.idle": "2025-09-04T08:35:41.852441Z",
     "shell.execute_reply": "2025-09-04T08:35:41.851533Z"
    },
    "papermill": {
     "duration": 0.036432,
     "end_time": "2025-09-04T08:35:41.853844",
     "exception": false,
     "start_time": "2025-09-04T08:35:41.817412",
     "status": "completed"
    },
    "tags": []
   },
   "outputs": [
    {
     "data": {
      "text/html": [
       "<div>\n",
       "<style scoped>\n",
       "    .dataframe tbody tr th:only-of-type {\n",
       "        vertical-align: middle;\n",
       "    }\n",
       "\n",
       "    .dataframe tbody tr th {\n",
       "        vertical-align: top;\n",
       "    }\n",
       "\n",
       "    .dataframe thead th {\n",
       "        text-align: right;\n",
       "    }\n",
       "</style>\n",
       "<table border=\"1\" class=\"dataframe\">\n",
       "  <thead>\n",
       "    <tr style=\"text-align: right;\">\n",
       "      <th></th>\n",
       "      <th>id</th>\n",
       "      <th>SMILES</th>\n",
       "      <th>Tg</th>\n",
       "      <th>FFV</th>\n",
       "      <th>Tc</th>\n",
       "      <th>Density</th>\n",
       "      <th>Rg</th>\n",
       "    </tr>\n",
       "  </thead>\n",
       "  <tbody>\n",
       "    <tr>\n",
       "      <th>0</th>\n",
       "      <td>87817.0</td>\n",
       "      <td>*CC(*)c1ccccc1C(=O)OCCCCCC</td>\n",
       "      <td>NaN</td>\n",
       "      <td>0.374645</td>\n",
       "      <td>0.205667</td>\n",
       "      <td>0.932</td>\n",
       "      <td>NaN</td>\n",
       "    </tr>\n",
       "    <tr>\n",
       "      <th>1</th>\n",
       "      <td>106919.0</td>\n",
       "      <td>*Nc1ccc([C@H](CCC)c2ccc(C3(c4ccc([C@@H](CCC)c5...</td>\n",
       "      <td>NaN</td>\n",
       "      <td>0.370410</td>\n",
       "      <td>NaN</td>\n",
       "      <td>NaN</td>\n",
       "      <td>NaN</td>\n",
       "    </tr>\n",
       "    <tr>\n",
       "      <th>2</th>\n",
       "      <td>388772.0</td>\n",
       "      <td>*Oc1ccc(S(=O)(=O)c2ccc(Oc3ccc(C4(c5ccc(Oc6ccc(...</td>\n",
       "      <td>NaN</td>\n",
       "      <td>0.378860</td>\n",
       "      <td>NaN</td>\n",
       "      <td>NaN</td>\n",
       "      <td>NaN</td>\n",
       "    </tr>\n",
       "    <tr>\n",
       "      <th>3</th>\n",
       "      <td>519416.0</td>\n",
       "      <td>*Nc1ccc(-c2c(-c3ccc(C)cc3)c(-c3ccc(C)cc3)c(N*)...</td>\n",
       "      <td>NaN</td>\n",
       "      <td>0.387324</td>\n",
       "      <td>NaN</td>\n",
       "      <td>NaN</td>\n",
       "      <td>NaN</td>\n",
       "    </tr>\n",
       "    <tr>\n",
       "      <th>4</th>\n",
       "      <td>539187.0</td>\n",
       "      <td>*Oc1ccc(OC(=O)c2cc(OCCCCCCCCCOCC3CCCN3c3ccc([N...</td>\n",
       "      <td>NaN</td>\n",
       "      <td>0.355470</td>\n",
       "      <td>NaN</td>\n",
       "      <td>NaN</td>\n",
       "      <td>NaN</td>\n",
       "    </tr>\n",
       "    <tr>\n",
       "      <th>...</th>\n",
       "      <td>...</td>\n",
       "      <td>...</td>\n",
       "      <td>...</td>\n",
       "      <td>...</td>\n",
       "      <td>...</td>\n",
       "      <td>...</td>\n",
       "      <td>...</td>\n",
       "    </tr>\n",
       "    <tr>\n",
       "      <th>10075</th>\n",
       "      <td>NaN</td>\n",
       "      <td>*c1cccc(OCCCCCCOc2cccc(N3C(=O)c4ccc(-c5cccc6c5...</td>\n",
       "      <td>NaN</td>\n",
       "      <td>0.349095</td>\n",
       "      <td>NaN</td>\n",
       "      <td>NaN</td>\n",
       "      <td>NaN</td>\n",
       "    </tr>\n",
       "    <tr>\n",
       "      <th>10076</th>\n",
       "      <td>NaN</td>\n",
       "      <td>*c1cccc(OCCCCCOc2cccc(N3C(=O)c4ccc(-c5cccc6c5C...</td>\n",
       "      <td>NaN</td>\n",
       "      <td>0.350892</td>\n",
       "      <td>NaN</td>\n",
       "      <td>NaN</td>\n",
       "      <td>NaN</td>\n",
       "    </tr>\n",
       "    <tr>\n",
       "      <th>10077</th>\n",
       "      <td>NaN</td>\n",
       "      <td>*c1cccc(OCCCCOc2cccc(N3C(=O)c4ccc(-c5cccc6c5C(...</td>\n",
       "      <td>NaN</td>\n",
       "      <td>0.345386</td>\n",
       "      <td>NaN</td>\n",
       "      <td>NaN</td>\n",
       "      <td>NaN</td>\n",
       "    </tr>\n",
       "    <tr>\n",
       "      <th>10078</th>\n",
       "      <td>NaN</td>\n",
       "      <td>*c1cccc(Oc2cccc(Oc3cccc(N4C(=O)c5ccc(Oc6ccc(Sc...</td>\n",
       "      <td>NaN</td>\n",
       "      <td>0.362224</td>\n",
       "      <td>NaN</td>\n",
       "      <td>NaN</td>\n",
       "      <td>NaN</td>\n",
       "    </tr>\n",
       "    <tr>\n",
       "      <th>10079</th>\n",
       "      <td>NaN</td>\n",
       "      <td>*c1cccc(P(C)(=O)c2cccc(N3C(=O)c4ccc(Oc5ccc(C(C...</td>\n",
       "      <td>NaN</td>\n",
       "      <td>0.369574</td>\n",
       "      <td>NaN</td>\n",
       "      <td>NaN</td>\n",
       "      <td>NaN</td>\n",
       "    </tr>\n",
       "  </tbody>\n",
       "</table>\n",
       "<p>10080 rows × 7 columns</p>\n",
       "</div>"
      ],
      "text/plain": [
       "             id                                             SMILES  Tg  \\\n",
       "0       87817.0                         *CC(*)c1ccccc1C(=O)OCCCCCC NaN   \n",
       "1      106919.0  *Nc1ccc([C@H](CCC)c2ccc(C3(c4ccc([C@@H](CCC)c5... NaN   \n",
       "2      388772.0  *Oc1ccc(S(=O)(=O)c2ccc(Oc3ccc(C4(c5ccc(Oc6ccc(... NaN   \n",
       "3      519416.0  *Nc1ccc(-c2c(-c3ccc(C)cc3)c(-c3ccc(C)cc3)c(N*)... NaN   \n",
       "4      539187.0  *Oc1ccc(OC(=O)c2cc(OCCCCCCCCCOCC3CCCN3c3ccc([N... NaN   \n",
       "...         ...                                                ...  ..   \n",
       "10075       NaN  *c1cccc(OCCCCCCOc2cccc(N3C(=O)c4ccc(-c5cccc6c5... NaN   \n",
       "10076       NaN  *c1cccc(OCCCCCOc2cccc(N3C(=O)c4ccc(-c5cccc6c5C... NaN   \n",
       "10077       NaN  *c1cccc(OCCCCOc2cccc(N3C(=O)c4ccc(-c5cccc6c5C(... NaN   \n",
       "10078       NaN  *c1cccc(Oc2cccc(Oc3cccc(N4C(=O)c5ccc(Oc6ccc(Sc... NaN   \n",
       "10079       NaN  *c1cccc(P(C)(=O)c2cccc(N3C(=O)c4ccc(Oc5ccc(C(C... NaN   \n",
       "\n",
       "            FFV        Tc  Density  Rg  \n",
       "0      0.374645  0.205667    0.932 NaN  \n",
       "1      0.370410       NaN      NaN NaN  \n",
       "2      0.378860       NaN      NaN NaN  \n",
       "3      0.387324       NaN      NaN NaN  \n",
       "4      0.355470       NaN      NaN NaN  \n",
       "...         ...       ...      ...  ..  \n",
       "10075  0.349095       NaN      NaN NaN  \n",
       "10076  0.350892       NaN      NaN NaN  \n",
       "10077  0.345386       NaN      NaN NaN  \n",
       "10078  0.362224       NaN      NaN NaN  \n",
       "10079  0.369574       NaN      NaN NaN  \n",
       "\n",
       "[10080 rows x 7 columns]"
      ]
     },
     "execution_count": 15,
     "metadata": {},
     "output_type": "execute_result"
    }
   ],
   "source": [
    "train"
   ]
  },
  {
   "cell_type": "markdown",
   "id": "e111423b",
   "metadata": {
    "papermill": {
     "duration": 0.008392,
     "end_time": "2025-09-04T08:35:41.871179",
     "exception": false,
     "start_time": "2025-09-04T08:35:41.862787",
     "status": "completed"
    },
    "tags": []
   },
   "source": [
    "# Data Preparation For Model Training "
   ]
  },
  {
   "cell_type": "code",
   "execution_count": 16,
   "id": "abfd63fa",
   "metadata": {
    "execution": {
     "iopub.execute_input": "2025-09-04T08:35:41.889598Z",
     "iopub.status.busy": "2025-09-04T08:35:41.889238Z",
     "iopub.status.idle": "2025-09-04T08:35:41.894262Z",
     "shell.execute_reply": "2025-09-04T08:35:41.893268Z"
    },
    "papermill": {
     "duration": 0.016017,
     "end_time": "2025-09-04T08:35:41.895643",
     "exception": false,
     "start_time": "2025-09-04T08:35:41.879626",
     "status": "completed"
    },
    "tags": []
   },
   "outputs": [],
   "source": [
    "# # We'll separate train to be one model for each target variable.\n",
    "# t_1=train[['SMILES','Tg']].copy()\n",
    "# t_2=train[['SMILES','FFV']].copy()\n",
    "# t_3=train[['SMILES','Tc']].copy()\n",
    "# t_4=train[['SMILES','Density']].copy()\n",
    "# t_5=train[['SMILES','Rg']].copy()\n",
    "\n",
    "# # We will drop the rows with missing values related to that target after separation.\n",
    "# #This is important , dropping them beforehand would result Null for all data.\n",
    "# t_1.dropna(inplace=True)\n",
    "# t_2.dropna(inplace=True)\n",
    "# t_3.dropna(inplace=True)\n",
    "# t_4.dropna(inplace=True)\n",
    "# t_5.dropna(inplace=True)\n",
    "\n",
    "# t_1.index = range(0, len(t_1))\n",
    "# t_2.index = range(0, len(t_2))\n",
    "# t_3.index = range(0, len(t_3))\n",
    "# t_4.index = range(0, len(t_4))\n",
    "# t_5.index = range(0, len(t_5))"
   ]
  },
  {
   "cell_type": "code",
   "execution_count": 17,
   "id": "4ed34a05",
   "metadata": {
    "execution": {
     "iopub.execute_input": "2025-09-04T08:35:41.914474Z",
     "iopub.status.busy": "2025-09-04T08:35:41.914112Z",
     "iopub.status.idle": "2025-09-04T08:35:41.918716Z",
     "shell.execute_reply": "2025-09-04T08:35:41.917647Z"
    },
    "papermill": {
     "duration": 0.015706,
     "end_time": "2025-09-04T08:35:41.920252",
     "exception": false,
     "start_time": "2025-09-04T08:35:41.904546",
     "status": "completed"
    },
    "tags": []
   },
   "outputs": [],
   "source": [
    "# mols_test_t1 = [Chem.MolFromSmiles(s) for s in t_1.SMILES]\n",
    "# mols_test_t2 = [Chem.MolFromSmiles(s) for s in t_2.SMILES]\n",
    "# mols_test_t3 = [Chem.MolFromSmiles(s) for s in t_3.SMILES]\n",
    "# mols_test_t4 = [Chem.MolFromSmiles(s) for s in t_4.SMILES]\n",
    "# mols_test_t5 = [Chem.MolFromSmiles(s) for s in t_5.SMILES]\n",
    "# # Initialize the Mordred Calculator\n",
    "# calc = Calculator(descriptors, ignore_3D=True) # ignore_3D=True for 2D descriptors\n",
    "\n",
    "# desc_t1 = calc.pandas(mols_test_t1)\n",
    "# desc_t2 = calc.pandas(mols_test_t1)\n",
    "# desc_t3 = calc.pandas(mols_test_t1)\n",
    "# desc_t4 = calc.pandas(mols_test_t1)\n",
    "# desc_t5 = calc.pandas(mols_test_t1)"
   ]
  },
  {
   "cell_type": "code",
   "execution_count": 18,
   "id": "44b98c86",
   "metadata": {
    "execution": {
     "iopub.execute_input": "2025-09-04T08:35:41.939067Z",
     "iopub.status.busy": "2025-09-04T08:35:41.938725Z",
     "iopub.status.idle": "2025-09-04T08:35:41.942834Z",
     "shell.execute_reply": "2025-09-04T08:35:41.941882Z"
    },
    "papermill": {
     "duration": 0.015322,
     "end_time": "2025-09-04T08:35:41.944396",
     "exception": false,
     "start_time": "2025-09-04T08:35:41.929074",
     "status": "completed"
    },
    "tags": []
   },
   "outputs": [],
   "source": [
    "# desc_t1['Tg']=t_1['Tg'].copy()\n",
    "# desc_t2['FFV']=t_2['FFV'].copy()\n",
    "# desc_t3['Tc']=t_3['Tc'].copy()\n",
    "# desc_t4['Density']=t_4['Density'].copy()\n",
    "# desc_t5['Rg']=t_5['Rg'].copy()"
   ]
  },
  {
   "cell_type": "code",
   "execution_count": 19,
   "id": "fc2f7b1b",
   "metadata": {
    "execution": {
     "iopub.execute_input": "2025-09-04T08:35:41.963504Z",
     "iopub.status.busy": "2025-09-04T08:35:41.962876Z",
     "iopub.status.idle": "2025-09-04T08:35:41.967403Z",
     "shell.execute_reply": "2025-09-04T08:35:41.966424Z"
    },
    "papermill": {
     "duration": 0.015824,
     "end_time": "2025-09-04T08:35:41.968999",
     "exception": false,
     "start_time": "2025-09-04T08:35:41.953175",
     "status": "completed"
    },
    "tags": []
   },
   "outputs": [],
   "source": [
    "# desc_t1 = desc_t1.select_dtypes(exclude=['object', 'category'])\n",
    "# desc_t2 = desc_t2.select_dtypes(exclude=['object', 'category'])\n",
    "# desc_t3 = desc_t3.select_dtypes(exclude=['object', 'category'])\n",
    "# desc_t4 = desc_t4.select_dtypes(exclude=['object', 'category'])\n",
    "# desc_t5 = desc_t5.select_dtypes(exclude=['object', 'category'])\n",
    "\n",
    "# tg_ds=pd.concat([tg_ds, desc_t1], ignore_index=True)\n",
    "# ffv_ds=pd.concat([ffv_ds, desc_t2], ignore_index=True)\n",
    "# tc_ds=pd.concat([tc_ds, desc_t3], ignore_index=True)\n",
    "# den_ds=pd.concat([den_ds, desc_t4], ignore_index=True)\n",
    "# rg_ds=pd.concat([rg_ds, desc_t5], ignore_index=True)\n",
    "# # tg=t_1.merge(train,on='SMILES',how='left')\n",
    "# # ffv=t_2.merge(train,on='SMILES',how='left')\n",
    "# # tc=t_3.merge(train,on='SMILES',how='left')\n",
    "# # density=t_4.merge(train,on='SMILES',how='left')\n",
    "# # rg=t_5.merge(train,on='SMILES',how='left')"
   ]
  },
  {
   "cell_type": "markdown",
   "id": "7aeb0c39",
   "metadata": {
    "papermill": {
     "duration": 0.008873,
     "end_time": "2025-09-04T08:35:41.987459",
     "exception": false,
     "start_time": "2025-09-04T08:35:41.978586",
     "status": "completed"
    },
    "tags": []
   },
   "source": [
    "# Model "
   ]
  },
  {
   "cell_type": "code",
   "execution_count": 20,
   "id": "ad98e472",
   "metadata": {
    "execution": {
     "iopub.execute_input": "2025-09-04T08:35:42.007223Z",
     "iopub.status.busy": "2025-09-04T08:35:42.006320Z",
     "iopub.status.idle": "2025-09-04T08:35:42.015421Z",
     "shell.execute_reply": "2025-09-04T08:35:42.014568Z"
    },
    "papermill": {
     "duration": 0.020938,
     "end_time": "2025-09-04T08:35:42.017066",
     "exception": false,
     "start_time": "2025-09-04T08:35:41.996128",
     "status": "completed"
    },
    "tags": []
   },
   "outputs": [],
   "source": [
    "\n",
    "def model(train_d,test_d,model,target,submission=False):\n",
    "    # We divide the data into training and validation sets for model evaluation\n",
    "    train_cols = set(train_d.columns) - {target}\n",
    "    test_cols = set(test_d.columns)\n",
    "   # Intersect the feature columns\n",
    "    common_cols = list(train_cols & test_cols)\n",
    "    X=train_d[common_cols].copy()\n",
    "    y=train_d[target].copy()\n",
    "    X_train,X_test,y_train,y_test=train_test_split(X,y,test_size=0.2,random_state=10)\n",
    "\n",
    "    Model=model()\n",
    "    if submission==False:\n",
    "       Model.fit(X_train,y_train)\n",
    "       y_pred=Model.predict(X_test)\n",
    "       return mean_absolute_error(y_pred,y_test)         # We assess our model performance using MAE metric\n",
    "    if submission==True:\n",
    "       Model.fit(X,y)\n",
    "       submission=Model.predict(test_d[common_cols].copy())\n",
    "       return submission\n",
    "\n",
    "# from sklearn.model_selection import train_test_split, cross_val_score, KFold, GroupKFold\n",
    "# from sklearn.metrics import mean_absolute_error, make_scorer\n",
    "# from sklearn.pipeline import Pipeline\n",
    "# from sklearn.impute import SimpleImputer\n",
    "# from sklearn.preprocessing import StandardScaler, OneHotEncoder\n",
    "# from sklearn.compose import ColumnTransformer\n",
    "\n",
    "# def model(train_df, test_df, model, target, preprocessing_steps=None, groups=None, submission=False, n_folds=5):\n",
    "\n",
    "#     # 1. Identify features\n",
    "#     train_features = set(train_df.columns) - {target}\n",
    "#     test_features = set(test_df.columns)\n",
    "#     common_features = list(train_features & test_features)\n",
    "    \n",
    "#     X = train_df[common_features].copy()\n",
    "#     y = train_df[target].copy()\n",
    "#     X_test = test_df[common_features].copy()\n",
    "\n",
    "#     # 2. Define a default preprocessing pipeline if none is provided\n",
    "#     if preprocessing_steps is None:\n",
    "#         # Identify numeric and categorical columns automatically\n",
    "#         numeric_features = X.select_dtypes(include=[np.number]).columns.tolist()\n",
    "#         categorical_features = X.select_dtypes(include=['object', 'category']).columns.tolist()\n",
    "\n",
    "#         numeric_transformer = Pipeline(steps=[\n",
    "#             ('imputer', SimpleImputer(strategy='median')),\n",
    "#             ('scaler', StandardScaler())\n",
    "#         ])\n",
    "#         categorical_transformer = Pipeline(steps=[\n",
    "#             ('imputer', SimpleImputer(strategy='most_frequent')),\n",
    "#             ('onehot', OneHotEncoder(handle_unknown='ignore', sparse_output=False))\n",
    "#         ])\n",
    "        \n",
    "#         preprocessing_steps = ColumnTransformer(transformers=[\n",
    "#             ('num', numeric_transformer, numeric_features),\n",
    "#             ('cat', categorical_transformer, categorical_features)\n",
    "#         ])\n",
    "\n",
    "#     # 3. Create the full pipeline (Preprocessing + Model)\n",
    "#     full_pipeline = Pipeline(steps=[\n",
    "#         ('preprocessor', preprocessing_steps),\n",
    "#         ('model', model)\n",
    "#     ])\n",
    "\n",
    "#     # 4. SUBMISSION MODE: Train on all data and predict\n",
    "#     if submission:\n",
    "#         print(\"Training final model on all data for submission...\")\n",
    "#         full_pipeline.fit(X, y)\n",
    "#         return full_pipeline.predict(X_test)\n",
    "\n",
    "#     # 5. EVALUATION MODE: Cross-Validate\n",
    "#     else:\n",
    "#         print(\"Evaluating model using cross-validation...\")\n",
    "        \n",
    "#         # Choose the CV strategy\n",
    "#         if groups is not None:\n",
    "#             cv = GroupKFold(n_splits=n_folds)\n",
    "#             cv_splitter = cv.split(X, y, groups=groups)\n",
    "#             print(\"Using GroupKFold to avoid data leakage.\")\n",
    "#         else:\n",
    "#             cv = KFold(n_splits=n_folds, shuffle=True, random_state=42)\n",
    "#             cv_splitter = cv.split(X, y)\n",
    "#             print(\"Using KFold cross-validation.\")\n",
    "\n",
    "#         # Perform Cross-Validation\n",
    "#         maes = cross_val_score(full_pipeline, X, y, \n",
    "#                               cv=cv_splitter, \n",
    "#                               scoring=make_scorer(mean_absolute_error),\n",
    "#                               n_jobs=-1) # Use all CPU cores\n",
    "\n",
    "#         # Also, get Out-of-Fold predictions for error analysis\n",
    "#         oof_predictions = np.zeros(len(X))\n",
    "#         for fold, (train_idx, val_idx) in enumerate(cv_splitter):\n",
    "#             X_train, X_val = X.iloc[train_idx], X.iloc[val_idx]\n",
    "#             y_train, y_val = y.iloc[train_idx], y.iloc[val_idx]\n",
    "\n",
    "#             # Clone the pipeline and train on the fold\n",
    "#             fold_pipeline = clone(full_pipeline)\n",
    "#             fold_pipeline.fit(X_train, y_train)\n",
    "#             fold_preds = fold_pipeline.predict(X_val)\n",
    "#             oof_predictions[val_idx] = fold_preds\n",
    "\n",
    "#         # Fit the final pipeline on all data for inspection (feature importance)\n",
    "#         full_pipeline.fit(X, y)\n",
    "#         final_model = full_pipeline\n",
    "\n",
    "#         # Compile results\n",
    "#         results = {\n",
    "#             'cv_mean_mae': np.mean(maes),\n",
    "#             'cv_std_mae': np.std(maes),\n",
    "#             'cv_scores': maes,\n",
    "#             'oof_predictions': oof_predictions,\n",
    "#             'model': final_model,\n",
    "#             'features': common_features\n",
    "#         }\n",
    "#         print(f\"CV Mean MAE: {results['cv_mean_mae']:.4f} (+/- {results['cv_std_mae']:.4f})\")\n",
    "#         return results"
   ]
  },
  {
   "cell_type": "markdown",
   "id": "b1dd8910",
   "metadata": {
    "papermill": {
     "duration": 0.008781,
     "end_time": "2025-09-04T08:35:42.034861",
     "exception": false,
     "start_time": "2025-09-04T08:35:42.026080",
     "status": "completed"
    },
    "tags": []
   },
   "source": [
    "# Data Selection"
   ]
  },
  {
   "cell_type": "code",
   "execution_count": 21,
   "id": "d6681381",
   "metadata": {
    "execution": {
     "iopub.execute_input": "2025-09-04T08:35:42.053816Z",
     "iopub.status.busy": "2025-09-04T08:35:42.053440Z",
     "iopub.status.idle": "2025-09-04T08:45:24.483188Z",
     "shell.execute_reply": "2025-09-04T08:45:24.482399Z"
    },
    "papermill": {
     "duration": 582.441334,
     "end_time": "2025-09-04T08:45:24.485032",
     "exception": false,
     "start_time": "2025-09-04T08:35:42.043698",
     "status": "completed"
    },
    "tags": []
   },
   "outputs": [],
   "source": [
    "def select_features(dataset, target_column, n_features_to_select=300, estimator=None, step=5, random_state=42):\n",
    "    \n",
    "    # Make a copy to avoid modifying original data\n",
    "    data = dataset.copy()\n",
    "    \n",
    "    # Separate features and target\n",
    "    X = data.drop(target_column, axis=1)\n",
    "    y = data[target_column]\n",
    "    \n",
    "    # Handle missing values - drop rows where target is NaN\n",
    "    non_null_mask = y.notna()\n",
    "    X = X[non_null_mask]\n",
    "    y = y[non_null_mask]\n",
    "    \n",
    "    # Create estimator if not provided\n",
    "    if estimator is None:\n",
    "        estimator = LGBMRegressor(\n",
    "            n_estimators=100,\n",
    "            random_state=random_state,\n",
    "            verbose=-1  # Silence LightGBM output\n",
    "        )\n",
    "    \n",
    "    # Initialize RFE selector\n",
    "    selector = RFE(\n",
    "        estimator=estimator,\n",
    "        n_features_to_select=n_features_to_select,\n",
    "        step=step\n",
    "    )\n",
    "    \n",
    "    # Fit the selector\n",
    "    selector.fit(X, y)\n",
    "    \n",
    "    # Get selected features\n",
    "    selected_features = X.columns[selector.support_].tolist()\n",
    "    \n",
    "    # Create new dataset with only selected features and target\n",
    "    selected_data = data[selected_features + [target_column]]\n",
    "    \n",
    "    return selected_data\n",
    "\n",
    "tg_ds=select_features(tg_ds, 'Tg')\n",
    "ffv_ds=select_features(ffv_ds, 'FFV')\n",
    "tc_ds=select_features(tc_ds, 'Tc')\n",
    "den_ds=select_features(den_ds, 'Density')\n",
    "rg_ds=select_features(rg_ds, 'Rg')"
   ]
  },
  {
   "cell_type": "markdown",
   "id": "5f83c714",
   "metadata": {
    "papermill": {
     "duration": 0.008464,
     "end_time": "2025-09-04T08:45:24.504443",
     "exception": false,
     "start_time": "2025-09-04T08:45:24.495979",
     "status": "completed"
    },
    "tags": []
   },
   "source": [
    "# **Model Evaluation"
   ]
  },
  {
   "cell_type": "code",
   "execution_count": 22,
   "id": "363de192",
   "metadata": {
    "execution": {
     "iopub.execute_input": "2025-09-04T08:45:24.522971Z",
     "iopub.status.busy": "2025-09-04T08:45:24.522657Z",
     "iopub.status.idle": "2025-09-04T08:45:24.528834Z",
     "shell.execute_reply": "2025-09-04T08:45:24.527864Z"
    },
    "papermill": {
     "duration": 0.017561,
     "end_time": "2025-09-04T08:45:24.530549",
     "exception": false,
     "start_time": "2025-09-04T08:45:24.512988",
     "status": "completed"
    },
    "tags": []
   },
   "outputs": [],
   "source": [
    "\n",
    "models_to_compare = {\n",
    "    'XGBoost': lambda: XGBRegressor(verbosity=0),\n",
    "    'CatBoost': lambda: CatBoostRegressor(verbose=0),\n",
    "    'CatBoost2': lambda: CatBoostRegressor(iterations=1000,learning_rate=0.03,depth=6,l2_leaf_reg=3,early_stopping_rounds=50,random_seed=SEED,verbose=0),\n",
    "    'MLP': lambda: MLPRegressor(\n",
    "            hidden_layer_sizes=(1024, 512, 256),\n",
    "            activation='relu',\n",
    "            solver='adam',\n",
    "            alpha=0.0001,\n",
    "            batch_size=64,  \n",
    "            learning_rate_init=0.0005, \n",
    "            max_iter=1000, \n",
    "            early_stopping=True, \n",
    "            random_state=42\n",
    "        )\n",
    "}"
   ]
  },
  {
   "cell_type": "code",
   "execution_count": 23,
   "id": "228b249c",
   "metadata": {
    "execution": {
     "iopub.execute_input": "2025-09-04T08:45:24.549675Z",
     "iopub.status.busy": "2025-09-04T08:45:24.548758Z",
     "iopub.status.idle": "2025-09-04T08:46:50.843695Z",
     "shell.execute_reply": "2025-09-04T08:46:50.842764Z"
    },
    "papermill": {
     "duration": 86.30602,
     "end_time": "2025-09-04T08:46:50.845440",
     "exception": false,
     "start_time": "2025-09-04T08:45:24.539420",
     "status": "completed"
    },
    "tags": []
   },
   "outputs": [
    {
     "name": "stdout",
     "output_type": "stream",
     "text": [
      "XGBoost              : MAE = 27.04903\n",
      "CatBoost             : MAE = 27.10594\n",
      "CatBoost2            : MAE = 29.01655\n",
      "MLP                  : MAE = 19.48998\n"
     ]
    }
   ],
   "source": [
    "scaler = StandardScaler()\n",
    "tg_ds = tg_ds.dropna(subset=['Tg'])\n",
    "tg_ds_clean = tg_ds.dropna()\n",
    "for name, model_init in models_to_compare.items():\n",
    "    try:\n",
    "        if name == 'MLP':\n",
    "            score = model(tg_ds_clean, desc_test, model_init, 'Tg', submission=False)\n",
    "        else:\n",
    "            score = model(tg_ds, desc_test, model_init, 'Tg', submission=False)\n",
    "        print(f'{name:<21}: MAE = {score:.5f}')\n",
    "    except Exception as e:\n",
    "        print(f'{name:<21}: Failed with error: {e}')"
   ]
  },
  {
   "cell_type": "code",
   "execution_count": 24,
   "id": "c0d2a00e",
   "metadata": {
    "execution": {
     "iopub.execute_input": "2025-09-04T08:46:50.867537Z",
     "iopub.status.busy": "2025-09-04T08:46:50.867226Z",
     "iopub.status.idle": "2025-09-04T08:49:05.175376Z",
     "shell.execute_reply": "2025-09-04T08:49:05.174396Z"
    },
    "papermill": {
     "duration": 134.330122,
     "end_time": "2025-09-04T08:49:05.187619",
     "exception": false,
     "start_time": "2025-09-04T08:46:50.857497",
     "status": "completed"
    },
    "tags": []
   },
   "outputs": [
    {
     "name": "stdout",
     "output_type": "stream",
     "text": [
      "XGBoost              : MAE = 0.00690\n",
      "CatBoost             : MAE = 0.00603\n",
      "CatBoost2            : MAE = 0.00650\n",
      "MLP                  : MAE = 79755.53198\n"
     ]
    }
   ],
   "source": [
    "ffv_ds = ffv_ds.dropna(subset=['FFV'])\n",
    "ffv_ds_clean = ffv_ds.dropna()\n",
    "for name, model_cls in models_to_compare.items():\n",
    "    try:\n",
    "        if name == 'MLP':\n",
    "            score = model(ffv_ds_clean, desc_test, model_cls, 'FFV', submission=False)\n",
    "        else:\n",
    "            score = model(ffv_ds, desc_test, model_cls, 'FFV', submission=False)\n",
    "        print(f'{name:<21}: MAE = {score:.5f}')\n",
    "    except Exception as e:\n",
    "        print(f'{name:<21}: Failed with error: {e}')"
   ]
  },
  {
   "cell_type": "code",
   "execution_count": 25,
   "id": "7c78fa58",
   "metadata": {
    "execution": {
     "iopub.execute_input": "2025-09-04T08:49:05.207311Z",
     "iopub.status.busy": "2025-09-04T08:49:05.206981Z",
     "iopub.status.idle": "2025-09-04T08:50:20.911596Z",
     "shell.execute_reply": "2025-09-04T08:50:20.910476Z"
    },
    "papermill": {
     "duration": 75.716175,
     "end_time": "2025-09-04T08:50:20.913221",
     "exception": false,
     "start_time": "2025-09-04T08:49:05.197046",
     "status": "completed"
    },
    "tags": []
   },
   "outputs": [
    {
     "name": "stdout",
     "output_type": "stream",
     "text": [
      "XGBoost              : MAE = 0.03722\n",
      "CatBoost             : MAE = 0.03587\n",
      "CatBoost2            : MAE = 0.03528\n",
      "MLP                  : MAE = 7.36071\n"
     ]
    }
   ],
   "source": [
    "tc_ds = tc_ds.dropna(subset=['Tc'])\n",
    "tc_ds_clean = tc_ds.dropna()\n",
    "for name, model_cls in models_to_compare.items():\n",
    "    try:\n",
    "        if name == 'MLP':\n",
    "            score = model(tc_ds_clean, desc_test, model_cls, 'Tc', submission=False)\n",
    "        else:\n",
    "            score = model(tc_ds, desc_test, model_cls, 'Tc', submission=False)\n",
    "        print(f'{name:<21}: MAE = {score:.5f}')\n",
    "    except Exception as e:\n",
    "        print(f'{name:<21}: Failed with error: {e}')"
   ]
  },
  {
   "cell_type": "code",
   "execution_count": 26,
   "id": "d870eb62",
   "metadata": {
    "execution": {
     "iopub.execute_input": "2025-09-04T08:50:20.933561Z",
     "iopub.status.busy": "2025-09-04T08:50:20.933230Z",
     "iopub.status.idle": "2025-09-04T08:51:28.114179Z",
     "shell.execute_reply": "2025-09-04T08:51:28.113124Z"
    },
    "papermill": {
     "duration": 67.202907,
     "end_time": "2025-09-04T08:51:28.125739",
     "exception": false,
     "start_time": "2025-09-04T08:50:20.922832",
     "status": "completed"
    },
    "tags": []
   },
   "outputs": [
    {
     "name": "stdout",
     "output_type": "stream",
     "text": [
      "XGBoost              : MAE = 0.09048\n",
      "CatBoost             : MAE = 0.07695\n",
      "CatBoost2            : MAE = 0.07254\n",
      "MLP                  : MAE = 78941.22441\n"
     ]
    }
   ],
   "source": [
    "den_ds = den_ds.dropna(subset=['Density'])\n",
    "den_ds_clean = den_ds.dropna()\n",
    "for name, model_cls in models_to_compare.items():\n",
    "    try:\n",
    "        if name == 'MLP':\n",
    "            score = model(den_ds_clean, desc_test, model_cls, 'Density', submission=False)\n",
    "        else:\n",
    "            score = model(den_ds, desc_test, model_cls, 'Density', submission=False)\n",
    "        print(f'{name:<21}: MAE = {score:.5f}')\n",
    "    except Exception as e:\n",
    "        print(f'{name:<21}: Failed with error: {e}')"
   ]
  },
  {
   "cell_type": "code",
   "execution_count": 27,
   "id": "a6a6a2c8",
   "metadata": {
    "execution": {
     "iopub.execute_input": "2025-09-04T08:51:28.147339Z",
     "iopub.status.busy": "2025-09-04T08:51:28.146374Z",
     "iopub.status.idle": "2025-09-04T08:52:34.667668Z",
     "shell.execute_reply": "2025-09-04T08:52:34.666738Z"
    },
    "papermill": {
     "duration": 66.533299,
     "end_time": "2025-09-04T08:52:34.669296",
     "exception": false,
     "start_time": "2025-09-04T08:51:28.135997",
     "status": "completed"
    },
    "tags": []
   },
   "outputs": [
    {
     "name": "stdout",
     "output_type": "stream",
     "text": [
      "XGBoost              : MAE = 1.55538\n",
      "CatBoost             : MAE = 1.56413\n",
      "CatBoost2            : MAE = 1.56018\n",
      "MLP                  : MAE = 40.38974\n"
     ]
    }
   ],
   "source": [
    "rg_ds = rg_ds.dropna(subset=['Rg'])\n",
    "rg_ds_clean = rg_ds.dropna()\n",
    "for name, model_cls in models_to_compare.items():\n",
    "    try:\n",
    "        if name == 'MLP':\n",
    "            score = model(rg_ds_clean, desc_test, model_cls, 'Rg', submission=False)\n",
    "        else:\n",
    "            score = model(rg_ds, desc_test, model_cls, 'Rg', submission=False)\n",
    "        print(f'{name:<21}: MAE = {score:.5f}')\n",
    "    except Exception as e:\n",
    "        print(f'{name:<21}: Failed with error: {e}')"
   ]
  },
  {
   "cell_type": "markdown",
   "id": "c001fb09",
   "metadata": {
    "papermill": {
     "duration": 0.009434,
     "end_time": "2025-09-04T08:52:34.688556",
     "exception": false,
     "start_time": "2025-09-04T08:52:34.679122",
     "status": "completed"
    },
    "tags": []
   },
   "source": [
    "# Final Model For Submission"
   ]
  },
  {
   "cell_type": "code",
   "execution_count": 28,
   "id": "bd8ae046",
   "metadata": {
    "execution": {
     "iopub.execute_input": "2025-09-04T08:52:34.709279Z",
     "iopub.status.busy": "2025-09-04T08:52:34.708945Z",
     "iopub.status.idle": "2025-09-04T08:55:21.251293Z",
     "shell.execute_reply": "2025-09-04T08:55:21.250300Z"
    },
    "papermill": {
     "duration": 166.555244,
     "end_time": "2025-09-04T08:55:21.253291",
     "exception": false,
     "start_time": "2025-09-04T08:52:34.698047",
     "status": "completed"
    },
    "tags": []
   },
   "outputs": [],
   "source": [
    "from sklearn.impute import SimpleImputer\n",
    "from sklearn.pipeline import Pipeline\n",
    "'''\n",
    "11297.2s\t273\t=== Best models summary ===\n",
    "11297.2s\t274\tTg: CatBoost  CV_MAE=42.369263  params={'learning_rate': 0.03, 'l2_leaf_reg': 3, 'iterations': 1000, 'depth': 6}\n",
    "11297.2s\t275\tFFV: XGBoost  CV_MAE=0.006229  params={'subsample': 0.8, 'reg_lambda': 1, 'reg_alpha': 0.0, 'n_estimators': 800, 'max_depth': 6, 'learning_rate': 0.05, 'colsample_bytree': 0.7}\n",
    "11297.2s\t276\tTc: LightGBM  CV_MAE=0.032098  params={'subsample': 0.6, 'reg_lambda': 1, 'reg_alpha': 0.001, 'num_leaves': 64, 'n_estimators': 500, 'learning_rate': 0.01, 'colsample_bytree': 0.5}\n",
    "11297.2s\t277\tDensity: GradientBoosting  CV_MAE=0.065598  params={'subsample': 0.8, 'n_estimators': 800, 'max_features': 'sqrt', 'max_depth': 3, 'learning_rate': 0.1}\n",
    "11297.2s\t278\tRg: GradientBoosting  CV_MAE=1.717341  params={'subsample': 0.8, 'n_estimators': 1000, 'max_features': 'sqrt', 'max_depth': 5, 'learning_rate': 0.01}\n",
    "'''\n",
    "desc_test_clean = desc_test.dropna(axis=1, how='any')\n",
    "desc_test_clean.shape\n",
    "models = {\n",
    "    'XGBoost': lambda: XGBRegressor(verbosity=0),\n",
    "    'CatBoost': lambda: CatBoostRegressor(verbose=0),\n",
    "    'CatBoost2': lambda: CatBoostRegressor(iterations=1000,learning_rate=0.03,depth=6,l2_leaf_reg=3,early_stopping_rounds=50,random_seed=SEED,verbose=0),\n",
    "    'MLP': lambda: MLPRegressor(\n",
    "            hidden_layer_sizes=(1024, 512, 256),\n",
    "            activation='relu',\n",
    "            solver='adam',\n",
    "            alpha=0.0001,\n",
    "            batch_size=64,  \n",
    "            learning_rate_init=0.0005, \n",
    "            max_iter=1000, \n",
    "            early_stopping=True, \n",
    "            random_state=42\n",
    "        )\n",
    "}\n",
    "\n",
    "sub = {\n",
    "    'id': ID,\n",
    "    'Tg': model(tg_ds, desc_test_clean, models['CatBoost'], 'Tg', submission=True),\n",
    "    'FFV': model(ffv_ds, desc_test, models['CatBoost'], 'FFV', submission=True),\n",
    "    'Tc': model(tc_ds, desc_test, models['CatBoost2'], 'Tc', submission=True),\n",
    "    'Density': model(den_ds, desc_test, models['CatBoost2'], 'Density', submission=True),\n",
    "    'Rg': model(rg_ds, desc_test, models['CatBoost2'], 'Rg', submission=True)\n",
    "}"
   ]
  },
  {
   "cell_type": "code",
   "execution_count": 29,
   "id": "f74d3cb8",
   "metadata": {
    "execution": {
     "iopub.execute_input": "2025-09-04T08:55:21.274693Z",
     "iopub.status.busy": "2025-09-04T08:55:21.273965Z",
     "iopub.status.idle": "2025-09-04T08:55:21.279228Z",
     "shell.execute_reply": "2025-09-04T08:55:21.277997Z"
    },
    "papermill": {
     "duration": 0.017294,
     "end_time": "2025-09-04T08:55:21.280768",
     "exception": false,
     "start_time": "2025-09-04T08:55:21.263474",
     "status": "completed"
    },
    "tags": []
   },
   "outputs": [],
   "source": [
    "submission=pd.DataFrame(sub)"
   ]
  },
  {
   "cell_type": "code",
   "execution_count": 30,
   "id": "a3543188",
   "metadata": {
    "execution": {
     "iopub.execute_input": "2025-09-04T08:55:21.301542Z",
     "iopub.status.busy": "2025-09-04T08:55:21.301204Z",
     "iopub.status.idle": "2025-09-04T08:55:21.307094Z",
     "shell.execute_reply": "2025-09-04T08:55:21.306156Z"
    },
    "papermill": {
     "duration": 0.017914,
     "end_time": "2025-09-04T08:55:21.308610",
     "exception": false,
     "start_time": "2025-09-04T08:55:21.290696",
     "status": "completed"
    },
    "tags": []
   },
   "outputs": [
    {
     "data": {
      "text/plain": [
       "(3, 1584)"
      ]
     },
     "execution_count": 30,
     "metadata": {},
     "output_type": "execute_result"
    }
   ],
   "source": [
    "desc_test_clean.shape"
   ]
  },
  {
   "cell_type": "code",
   "execution_count": 31,
   "id": "a9eba0ff",
   "metadata": {
    "execution": {
     "iopub.execute_input": "2025-09-04T08:55:21.329731Z",
     "iopub.status.busy": "2025-09-04T08:55:21.329382Z",
     "iopub.status.idle": "2025-09-04T08:55:21.340045Z",
     "shell.execute_reply": "2025-09-04T08:55:21.338972Z"
    },
    "papermill": {
     "duration": 0.023315,
     "end_time": "2025-09-04T08:55:21.341814",
     "exception": false,
     "start_time": "2025-09-04T08:55:21.318499",
     "status": "completed"
    },
    "tags": []
   },
   "outputs": [
    {
     "data": {
      "text/html": [
       "<div>\n",
       "<style scoped>\n",
       "    .dataframe tbody tr th:only-of-type {\n",
       "        vertical-align: middle;\n",
       "    }\n",
       "\n",
       "    .dataframe tbody tr th {\n",
       "        vertical-align: top;\n",
       "    }\n",
       "\n",
       "    .dataframe thead th {\n",
       "        text-align: right;\n",
       "    }\n",
       "</style>\n",
       "<table border=\"1\" class=\"dataframe\">\n",
       "  <thead>\n",
       "    <tr style=\"text-align: right;\">\n",
       "      <th></th>\n",
       "      <th>id</th>\n",
       "      <th>Tg</th>\n",
       "      <th>FFV</th>\n",
       "      <th>Tc</th>\n",
       "      <th>Density</th>\n",
       "      <th>Rg</th>\n",
       "    </tr>\n",
       "  </thead>\n",
       "  <tbody>\n",
       "    <tr>\n",
       "      <th>0</th>\n",
       "      <td>1109053969</td>\n",
       "      <td>153.569461</td>\n",
       "      <td>0.372289</td>\n",
       "      <td>0.191155</td>\n",
       "      <td>1.171406</td>\n",
       "      <td>21.161833</td>\n",
       "    </tr>\n",
       "    <tr>\n",
       "      <th>1</th>\n",
       "      <td>1422188626</td>\n",
       "      <td>162.546125</td>\n",
       "      <td>0.377229</td>\n",
       "      <td>0.242456</td>\n",
       "      <td>1.090104</td>\n",
       "      <td>20.368410</td>\n",
       "    </tr>\n",
       "    <tr>\n",
       "      <th>2</th>\n",
       "      <td>2032016830</td>\n",
       "      <td>145.787232</td>\n",
       "      <td>0.354781</td>\n",
       "      <td>0.235060</td>\n",
       "      <td>1.118644</td>\n",
       "      <td>21.181817</td>\n",
       "    </tr>\n",
       "  </tbody>\n",
       "</table>\n",
       "</div>"
      ],
      "text/plain": [
       "           id          Tg       FFV        Tc   Density         Rg\n",
       "0  1109053969  153.569461  0.372289  0.191155  1.171406  21.161833\n",
       "1  1422188626  162.546125  0.377229  0.242456  1.090104  20.368410\n",
       "2  2032016830  145.787232  0.354781  0.235060  1.118644  21.181817"
      ]
     },
     "execution_count": 31,
     "metadata": {},
     "output_type": "execute_result"
    }
   ],
   "source": [
    "submission"
   ]
  },
  {
   "cell_type": "code",
   "execution_count": 32,
   "id": "1cdae531",
   "metadata": {
    "execution": {
     "iopub.execute_input": "2025-09-04T08:55:21.365287Z",
     "iopub.status.busy": "2025-09-04T08:55:21.364939Z",
     "iopub.status.idle": "2025-09-04T08:55:21.375452Z",
     "shell.execute_reply": "2025-09-04T08:55:21.374276Z"
    },
    "papermill": {
     "duration": 0.024365,
     "end_time": "2025-09-04T08:55:21.377292",
     "exception": false,
     "start_time": "2025-09-04T08:55:21.352927",
     "status": "completed"
    },
    "tags": []
   },
   "outputs": [],
   "source": [
    "submission.to_csv('submission.csv',index=False)"
   ]
  },
  {
   "cell_type": "code",
   "execution_count": null,
   "id": "45c2277f",
   "metadata": {
    "papermill": {
     "duration": 0.010964,
     "end_time": "2025-09-04T08:55:21.399694",
     "exception": false,
     "start_time": "2025-09-04T08:55:21.388730",
     "status": "completed"
    },
    "tags": []
   },
   "outputs": [],
   "source": []
  }
 ],
 "metadata": {
  "kaggle": {
   "accelerator": "none",
   "dataSources": [
    {
     "databundleVersionId": 12966160,
     "sourceId": 74608,
     "sourceType": "competition"
    },
    {
     "datasetId": 7678100,
     "sourceId": 12189904,
     "sourceType": "datasetVersion"
    },
    {
     "datasetId": 7690162,
     "sourceId": 12207625,
     "sourceType": "datasetVersion"
    },
    {
     "datasetId": 7706066,
     "sourceId": 12237259,
     "sourceType": "datasetVersion"
    },
    {
     "datasetId": 7709869,
     "sourceId": 12330396,
     "sourceType": "datasetVersion"
    },
    {
     "datasetId": 7887657,
     "sourceId": 12501403,
     "sourceType": "datasetVersion"
    },
    {
     "datasetId": 8114882,
     "sourceId": 12831234,
     "sourceType": "datasetVersion"
    }
   ],
   "dockerImageVersionId": 31040,
   "isGpuEnabled": false,
   "isInternetEnabled": false,
   "language": "python",
   "sourceType": "notebook"
  },
  "kernelspec": {
   "display_name": "Python 3",
   "language": "python",
   "name": "python3"
  },
  "language_info": {
   "codemirror_mode": {
    "name": "ipython",
    "version": 3
   },
   "file_extension": ".py",
   "mimetype": "text/x-python",
   "name": "python",
   "nbconvert_exporter": "python",
   "pygments_lexer": "ipython3",
   "version": "3.11.11"
  },
  "papermill": {
   "default_parameters": {},
   "duration": 1249.016667,
   "end_time": "2025-09-04T08:55:22.735624",
   "environment_variables": {},
   "exception": null,
   "input_path": "__notebook__.ipynb",
   "output_path": "__notebook__.ipynb",
   "parameters": {},
   "start_time": "2025-09-04T08:34:33.718957",
   "version": "2.6.0"
  }
 },
 "nbformat": 4,
 "nbformat_minor": 5
}
